{
 "cells": [
  {
   "cell_type": "markdown",
   "id": "3d1540bf",
   "metadata": {},
   "source": [
    "to load data:\n",
    "\n",
    "huggingface-cli download Salesforce/GiftEval --repo-type=dataset --local-dir data/gift_benchmark"
   ]
  },
  {
   "cell_type": "code",
   "execution_count": 7,
   "id": "4a930970",
   "metadata": {},
   "outputs": [
    {
     "name": "stdout",
     "output_type": "stream",
     "text": [
      "Available datasets in GIFT_EVAL:\n",
      "- LOOP_SEATTLE/5T\n",
      "- LOOP_SEATTLE/D\n",
      "- LOOP_SEATTLE/H\n",
      "- M_DENSE/D\n",
      "- M_DENSE/H\n",
      "- SZ_TAXI/15T\n",
      "- SZ_TAXI/H\n",
      "- bitbrains_fast_storage/5T\n",
      "- bitbrains_fast_storage/H\n",
      "- bitbrains_rnd/5T\n",
      "- bitbrains_rnd/H\n",
      "- bizitobs_application\n",
      "- bizitobs_l2c/5T\n",
      "- bizitobs_l2c/H\n",
      "- bizitobs_service\n",
      "- car_parts_with_missing\n",
      "- covid_deaths\n",
      "- electricity/15T\n",
      "- electricity/D\n",
      "- electricity/H\n",
      "- electricity/W\n",
      "- ett1/15T\n",
      "- ett1/D\n",
      "- ett1/H\n",
      "- ett1/W\n",
      "- ett2/15T\n",
      "- ett2/D\n",
      "- ett2/H\n",
      "- ett2/W\n",
      "- hierarchical_sales/D\n",
      "- hierarchical_sales/W\n",
      "- hospital\n",
      "- jena_weather/10T\n",
      "- jena_weather/D\n",
      "- jena_weather/H\n",
      "- kdd_cup_2018_with_missing/D\n",
      "- kdd_cup_2018_with_missing/H\n",
      "- m4_daily\n",
      "- m4_hourly\n",
      "- m4_monthly\n",
      "- m4_quarterly\n",
      "- m4_weekly\n",
      "- m4_yearly\n",
      "- restaurant\n",
      "- saugeenday/D\n",
      "- saugeenday/M\n",
      "- saugeenday/W\n",
      "- solar/10T\n",
      "- solar/D\n",
      "- solar/H\n",
      "- solar/W\n",
      "- temperature_rain_with_missing\n",
      "- us_births/D\n",
      "- us_births/M\n",
      "- us_births/W\n"
     ]
    }
   ],
   "source": [
    "from gift_eval.data import Dataset\n",
    "\n",
    "import os\n",
    "from dotenv import load_dotenv\n",
    "from pathlib import Path\n",
    "\n",
    "# Load environment variables\n",
    "load_dotenv()\n",
    "\n",
    "# Get the GIFT_EVAL path from environment variables\n",
    "gift_eval_path = os.getenv(\"GIFT_EVAL\")\n",
    "\n",
    "if gift_eval_path:\n",
    "    # Convert to Path object for easier manipulation\n",
    "    gift_eval_path = Path(gift_eval_path)\n",
    "\n",
    "    # Get all subdirectories (dataset names) in the GIFT_EVAL path\n",
    "    dataset_names = []\n",
    "    for dataset_dir in gift_eval_path.iterdir():\n",
    "        if dataset_dir.name.startswith(\".\"):\n",
    "            continue\n",
    "        if dataset_dir.is_dir():\n",
    "            freq_dirs = [d for d in dataset_dir.iterdir() if d.is_dir()]\n",
    "            if freq_dirs:\n",
    "                for freq_dir in freq_dirs:\n",
    "                    dataset_names.append(f\"{dataset_dir.name}/{freq_dir.name}\")\n",
    "            else:\n",
    "                dataset_names.append(dataset_dir.name)\n",
    "\n",
    "    print(\"Available datasets in GIFT_EVAL:\")\n",
    "    for name in sorted(dataset_names):\n",
    "        print(f\"- {name}\")\n",
    "else:\n",
    "    print(\n",
    "        \"GIFT_EVAL path not found in environment variables. Please check your .env file.\"\n",
    "    )"
   ]
  },
  {
   "cell_type": "code",
   "execution_count": 8,
   "id": "01ef7f60",
   "metadata": {},
   "outputs": [],
   "source": [
    "DATASET_GIFT_EVAL = [\n",
    "    \"bitbrains_fast_storage/5T\",\n",
    "    \"bitbrains_fast_storage/H\",\n",
    "    \"bitbrains_rnd/5T\",\n",
    "    \"bitbrains_rnd/H\",\n",
    "\n",
    "    \"bizitobs_application\",\n",
    "    \"bizitobs_l2c/5T\",\n",
    "    \"bizitobs_l2c/H\",\n",
    "    \"bizitobs_service\",\n",
    "\n",
    "    \"jena_weather/10T\",\n",
    "    \"jena_weather/D\",\n",
    "    \"jena_weather/H\",\n",
    "\n",
    "    \"solar/10T\",\n",
    "    \"solar/D\",\n",
    "    \"solar/H\",\n",
    "    \"solar/W\",\n",
    "]"
   ]
  },
  {
   "cell_type": "code",
   "execution_count": 9,
   "id": "758fe96f",
   "metadata": {},
   "outputs": [],
   "source": [
    "import pandas as pd"
   ]
  },
  {
   "cell_type": "code",
   "execution_count": 10,
   "id": "3a693add",
   "metadata": {},
   "outputs": [],
   "source": [
    "DATASET_GIFT_EVAL = [\n",
    "    \"bitbrains_fast_storage/5T\",\n",
    "]"
   ]
  },
  {
   "cell_type": "code",
   "execution_count": 11,
   "id": "23b09340",
   "metadata": {},
   "outputs": [
    {
     "name": "stderr",
     "output_type": "stream",
     "text": [
      "c:\\Documenti\\VS_Code\\tesi\\TSFM-ZeroShotEval\\gift_eval\\data.py:143: FutureWarning: 'T' is deprecated and will be removed in a future version, please use 'min' instead.\n",
      "  freq = norm_freq_str(to_offset(self.freq).name)\n",
      "c:\\Users\\giuli\\anaconda3\\lib\\site-packages\\gluonts\\dataset\\common.py:263: FutureWarning: 'T' is deprecated and will be removed in a future version, please use 'min' instead.\n",
      "  return pd.Period(val, freq)\n"
     ]
    }
   ],
   "source": [
    "for ds_name in DATASET_GIFT_EVAL:\n",
    "    # Load the dataset\n",
    "    to_univariate = False  # Whether to convert the data to univariate\n",
    "    term = \"short\"\n",
    "\n",
    "    dataset = Dataset(name=ds_name, term=term, to_univariate=to_univariate)\n",
    "\n",
    "    train_split_iter = dataset.training_dataset\n",
    "    val_split_iter = dataset.validation_dataset\n",
    "    test_split_iter = dataset.test_data\n",
    "\n",
    "    train_data = [x for x in train_split_iter]\n",
    "    train_df = pd.DataFrame(train_data)\n",
    "    train_df[\"set\"] = \"train\"\n",
    "\n",
    "    val_data = [x for x in val_split_iter]\n",
    "    val_df = pd.DataFrame(val_data)\n",
    "    val_df[\"set\"] = \"val\"\n",
    "\n",
    "    test_data = []\n",
    "    for x in test_split_iter:\n",
    "        x0, x1 = x\n",
    "        \n",
    "        test_data.append(x0)\n",
    "        test_data.append(x1)\n",
    "    test_df = pd.DataFrame(test_data)\n",
    "    test_df[\"set\"] = \"test\"\n",
    "\n",
    "    # concatenate the dataframes\n",
    "    df = pd.concat([train_df, val_df, test_df], ignore_index=True)\n",
    "\n",
    "    \"\"\"\n",
    "    # save the dataframe to a CSV file\n",
    "    name = ds_name.replace(\"/\", \"_\")\n",
    "    df.to_csv(f\"data/gift_eval/{name}.csv\", index=True)\n",
    "\n",
    "    print(f\"Saved {name} dataset to data/{name}.csv\")\n",
    "    \"\"\""
   ]
  },
  {
   "cell_type": "code",
   "execution_count": 12,
   "id": "72286dcc",
   "metadata": {},
   "outputs": [
    {
     "data": {
      "text/plain": [
       "dtype('float32')"
      ]
     },
     "execution_count": 12,
     "metadata": {},
     "output_type": "execute_result"
    }
   ],
   "source": [
    "test_data[0][\"past_feat_dynamic_real\"].dtype"
   ]
  },
  {
   "cell_type": "code",
   "execution_count": 13,
   "id": "964499a3",
   "metadata": {},
   "outputs": [
    {
     "data": {
      "text/plain": [
       "array([[708.93317 , 703.73315 , 695.06647 , ..., 686.39984 , 693.3331  ,\n",
       "        714.1331  ],\n",
       "       [ 13.633333,  13.533334,  13.366667, ...,  13.2     ,  13.333333,\n",
       "         13.733334]], shape=(2, 7728), dtype=float32)"
      ]
     },
     "execution_count": 13,
     "metadata": {},
     "output_type": "execute_result"
    }
   ],
   "source": [
    "df[\"target\"][0]"
   ]
  }
 ],
 "metadata": {
  "kernelspec": {
   "display_name": "base",
   "language": "python",
   "name": "python3"
  },
  "language_info": {
   "codemirror_mode": {
    "name": "ipython",
    "version": 3
   },
   "file_extension": ".py",
   "mimetype": "text/x-python",
   "name": "python",
   "nbconvert_exporter": "python",
   "pygments_lexer": "ipython3",
   "version": "3.10.9"
  }
 },
 "nbformat": 4,
 "nbformat_minor": 5
}
