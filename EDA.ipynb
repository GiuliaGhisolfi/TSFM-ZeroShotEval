{
 "cells": [
  {
   "cell_type": "code",
   "execution_count": null,
   "id": "e2d10902",
   "metadata": {},
   "outputs": [],
   "source": [
    "import pandas as pd\n",
    "from src.load_data import gift_data_to_df"
   ]
  },
  {
   "cell_type": "markdown",
   "id": "4355fc91",
   "metadata": {},
   "source": [
    "### BizITObs - L2C, Service, and Application (Domain: Web/Workloads)"
   ]
  },
  {
   "cell_type": "code",
   "execution_count": null,
   "id": "94581acd",
   "metadata": {},
   "outputs": [],
   "source": [
    "bizitobs_l2c_5T = gift_data_to_df('bizitobs_l2c/5T')\n",
    "bizitobs_l2c_H = gift_data_to_df('bizitobs_l2c/H')\n",
    "bizitobs_application = gift_data_to_df('bizitobs_application')\n",
    "bizitobs_service = gift_data_to_df('bizitobs_service')"
   ]
  },
  {
   "cell_type": "code",
   "execution_count": 17,
   "id": "ae447fea",
   "metadata": {},
   "outputs": [
    {
     "data": {
      "text/plain": [
       "((40, 6), (12, 6), (30, 6), (630, 6))"
      ]
     },
     "execution_count": 17,
     "metadata": {},
     "output_type": "execute_result"
    }
   ],
   "source": [
    "bizitobs_l2c_5T.shape, bizitobs_l2c_H.shape, bizitobs_application.shape, bizitobs_service.shape"
   ]
  },
  {
   "cell_type": "code",
   "execution_count": 20,
   "id": "6cf6efd9",
   "metadata": {},
   "outputs": [
    {
     "data": {
      "text/html": [
       "<div>\n",
       "<style scoped>\n",
       "    .dataframe tbody tr th:only-of-type {\n",
       "        vertical-align: middle;\n",
       "    }\n",
       "\n",
       "    .dataframe tbody tr th {\n",
       "        vertical-align: top;\n",
       "    }\n",
       "\n",
       "    .dataframe thead th {\n",
       "        text-align: right;\n",
       "    }\n",
       "</style>\n",
       "<table border=\"1\" class=\"dataframe\">\n",
       "  <thead>\n",
       "    <tr style=\"text-align: right;\">\n",
       "      <th></th>\n",
       "      <th>item_id</th>\n",
       "      <th>start</th>\n",
       "      <th>target</th>\n",
       "      <th>past_feat_dynamic_real</th>\n",
       "      <th>freq</th>\n",
       "      <th>set</th>\n",
       "    </tr>\n",
       "  </thead>\n",
       "  <tbody>\n",
       "    <tr>\n",
       "      <th>0</th>\n",
       "      <td>L2C</td>\n",
       "      <td>2020-11-01 00:00</td>\n",
       "      <td>[[0.0, 0.0, 0.0, 0.0, 0.0, 0.0, 0.0, 0.0, 0.0,...</td>\n",
       "      <td>[[0.0, 0.0, 0.0, 0.0, 0.0, 0.0, 0.0, 0.0, 0.0,...</td>\n",
       "      <td>5T</td>\n",
       "      <td>test</td>\n",
       "    </tr>\n",
       "    <tr>\n",
       "      <th>1</th>\n",
       "      <td>L2C</td>\n",
       "      <td>2021-02-16 16:00</td>\n",
       "      <td>[[11.95, 11.95, 11.95, 11.95, 11.95, 11.95, 11...</td>\n",
       "      <td>[[0.0, 0.0, 0.0, 0.0, 0.0, 0.0, 0.0, 0.0, 0.0,...</td>\n",
       "      <td>5T</td>\n",
       "      <td>test</td>\n",
       "    </tr>\n",
       "    <tr>\n",
       "      <th>2</th>\n",
       "      <td>L2C</td>\n",
       "      <td>2020-11-01 00:00</td>\n",
       "      <td>[[0.0, 0.0, 0.0, 0.0, 0.0, 0.0, 0.0, 0.0, 0.0,...</td>\n",
       "      <td>[[0.0, 0.0, 0.0, 0.0, 0.0, 0.0, 0.0, 0.0, 0.0,...</td>\n",
       "      <td>5T</td>\n",
       "      <td>test</td>\n",
       "    </tr>\n",
       "    <tr>\n",
       "      <th>3</th>\n",
       "      <td>L2C</td>\n",
       "      <td>2021-02-16 20:00</td>\n",
       "      <td>[[12.67, 12.67, 12.6, 12.6, 12.6, 12.6, 12.6, ...</td>\n",
       "      <td>[[0.0, 0.0, 0.0, 0.0, 0.0, 0.0, 0.0, 0.0, 0.0,...</td>\n",
       "      <td>5T</td>\n",
       "      <td>test</td>\n",
       "    </tr>\n",
       "    <tr>\n",
       "      <th>4</th>\n",
       "      <td>L2C</td>\n",
       "      <td>2020-11-01 00:00</td>\n",
       "      <td>[[0.0, 0.0, 0.0, 0.0, 0.0, 0.0, 0.0, 0.0, 0.0,...</td>\n",
       "      <td>[[0.0, 0.0, 0.0, 0.0, 0.0, 0.0, 0.0, 0.0, 0.0,...</td>\n",
       "      <td>5T</td>\n",
       "      <td>test</td>\n",
       "    </tr>\n",
       "  </tbody>\n",
       "</table>\n",
       "</div>"
      ],
      "text/plain": [
       "  item_id             start  \\\n",
       "0     L2C  2020-11-01 00:00   \n",
       "1     L2C  2021-02-16 16:00   \n",
       "2     L2C  2020-11-01 00:00   \n",
       "3     L2C  2021-02-16 20:00   \n",
       "4     L2C  2020-11-01 00:00   \n",
       "\n",
       "                                              target  \\\n",
       "0  [[0.0, 0.0, 0.0, 0.0, 0.0, 0.0, 0.0, 0.0, 0.0,...   \n",
       "1  [[11.95, 11.95, 11.95, 11.95, 11.95, 11.95, 11...   \n",
       "2  [[0.0, 0.0, 0.0, 0.0, 0.0, 0.0, 0.0, 0.0, 0.0,...   \n",
       "3  [[12.67, 12.67, 12.6, 12.6, 12.6, 12.6, 12.6, ...   \n",
       "4  [[0.0, 0.0, 0.0, 0.0, 0.0, 0.0, 0.0, 0.0, 0.0,...   \n",
       "\n",
       "                              past_feat_dynamic_real freq   set  \n",
       "0  [[0.0, 0.0, 0.0, 0.0, 0.0, 0.0, 0.0, 0.0, 0.0,...   5T  test  \n",
       "1  [[0.0, 0.0, 0.0, 0.0, 0.0, 0.0, 0.0, 0.0, 0.0,...   5T  test  \n",
       "2  [[0.0, 0.0, 0.0, 0.0, 0.0, 0.0, 0.0, 0.0, 0.0,...   5T  test  \n",
       "3  [[0.0, 0.0, 0.0, 0.0, 0.0, 0.0, 0.0, 0.0, 0.0,...   5T  test  \n",
       "4  [[0.0, 0.0, 0.0, 0.0, 0.0, 0.0, 0.0, 0.0, 0.0,...   5T  test  "
      ]
     },
     "execution_count": 20,
     "metadata": {},
     "output_type": "execute_result"
    }
   ],
   "source": [
    "bizitobs_l2c_5T.head()"
   ]
  },
  {
   "cell_type": "code",
   "execution_count": 21,
   "id": "5d9502f9",
   "metadata": {},
   "outputs": [
    {
     "data": {
      "text/html": [
       "<div>\n",
       "<style scoped>\n",
       "    .dataframe tbody tr th:only-of-type {\n",
       "        vertical-align: middle;\n",
       "    }\n",
       "\n",
       "    .dataframe tbody tr th {\n",
       "        vertical-align: top;\n",
       "    }\n",
       "\n",
       "    .dataframe thead th {\n",
       "        text-align: right;\n",
       "    }\n",
       "</style>\n",
       "<table border=\"1\" class=\"dataframe\">\n",
       "  <thead>\n",
       "    <tr style=\"text-align: right;\">\n",
       "      <th></th>\n",
       "      <th>item_id</th>\n",
       "      <th>start</th>\n",
       "      <th>target</th>\n",
       "      <th>past_feat_dynamic_real</th>\n",
       "      <th>freq</th>\n",
       "      <th>set</th>\n",
       "    </tr>\n",
       "  </thead>\n",
       "  <tbody>\n",
       "    <tr>\n",
       "      <th>0</th>\n",
       "      <td>L2C</td>\n",
       "      <td>2020-11-01 00:00</td>\n",
       "      <td>[[0.0, 0.0, 0.0, 0.0, 0.0, 0.0, 0.0, 0.0, 0.0,...</td>\n",
       "      <td>[[0.0, 0.0, 0.0, 0.0, 0.0, 0.0, 0.0, 0.0, 0.0,...</td>\n",
       "      <td>H</td>\n",
       "      <td>test</td>\n",
       "    </tr>\n",
       "    <tr>\n",
       "      <th>1</th>\n",
       "      <td>L2C</td>\n",
       "      <td>2021-02-08 00:00</td>\n",
       "      <td>[[0.0, 0.0, 0.0, 0.0, 0.0, 0.07666667, 0.74, 2...</td>\n",
       "      <td>[[0.0, 0.0, 0.0, 0.0, 0.0, 0.0, 0.0, 0.0, 0.0,...</td>\n",
       "      <td>H</td>\n",
       "      <td>test</td>\n",
       "    </tr>\n",
       "    <tr>\n",
       "      <th>2</th>\n",
       "      <td>L2C</td>\n",
       "      <td>2020-11-01 00:00</td>\n",
       "      <td>[[0.0, 0.0, 0.0, 0.0, 0.0, 0.0, 0.0, 0.0, 0.0,...</td>\n",
       "      <td>[[0.0, 0.0, 0.0, 0.0, 0.0, 0.0, 0.0, 0.0, 0.0,...</td>\n",
       "      <td>H</td>\n",
       "      <td>test</td>\n",
       "    </tr>\n",
       "    <tr>\n",
       "      <th>3</th>\n",
       "      <td>L2C</td>\n",
       "      <td>2021-02-10 00:00</td>\n",
       "      <td>[[19.583334, 19.655834, 20.144167, 20.63, 20.6...</td>\n",
       "      <td>[[0.0, 0.0, 0.16666667, 1.0, 1.0, 1.0, 1.0, 1....</td>\n",
       "      <td>H</td>\n",
       "      <td>test</td>\n",
       "    </tr>\n",
       "    <tr>\n",
       "      <th>4</th>\n",
       "      <td>L2C</td>\n",
       "      <td>2020-11-01 00:00</td>\n",
       "      <td>[[0.0, 0.0, 0.0, 0.0, 0.0, 0.0, 0.0, 0.0, 0.0,...</td>\n",
       "      <td>[[0.0, 0.0, 0.0, 0.0, 0.0, 0.0, 0.0, 0.0, 0.0,...</td>\n",
       "      <td>H</td>\n",
       "      <td>test</td>\n",
       "    </tr>\n",
       "  </tbody>\n",
       "</table>\n",
       "</div>"
      ],
      "text/plain": [
       "  item_id             start  \\\n",
       "0     L2C  2020-11-01 00:00   \n",
       "1     L2C  2021-02-08 00:00   \n",
       "2     L2C  2020-11-01 00:00   \n",
       "3     L2C  2021-02-10 00:00   \n",
       "4     L2C  2020-11-01 00:00   \n",
       "\n",
       "                                              target  \\\n",
       "0  [[0.0, 0.0, 0.0, 0.0, 0.0, 0.0, 0.0, 0.0, 0.0,...   \n",
       "1  [[0.0, 0.0, 0.0, 0.0, 0.0, 0.07666667, 0.74, 2...   \n",
       "2  [[0.0, 0.0, 0.0, 0.0, 0.0, 0.0, 0.0, 0.0, 0.0,...   \n",
       "3  [[19.583334, 19.655834, 20.144167, 20.63, 20.6...   \n",
       "4  [[0.0, 0.0, 0.0, 0.0, 0.0, 0.0, 0.0, 0.0, 0.0,...   \n",
       "\n",
       "                              past_feat_dynamic_real freq   set  \n",
       "0  [[0.0, 0.0, 0.0, 0.0, 0.0, 0.0, 0.0, 0.0, 0.0,...    H  test  \n",
       "1  [[0.0, 0.0, 0.0, 0.0, 0.0, 0.0, 0.0, 0.0, 0.0,...    H  test  \n",
       "2  [[0.0, 0.0, 0.0, 0.0, 0.0, 0.0, 0.0, 0.0, 0.0,...    H  test  \n",
       "3  [[0.0, 0.0, 0.16666667, 1.0, 1.0, 1.0, 1.0, 1....    H  test  \n",
       "4  [[0.0, 0.0, 0.0, 0.0, 0.0, 0.0, 0.0, 0.0, 0.0,...    H  test  "
      ]
     },
     "execution_count": 21,
     "metadata": {},
     "output_type": "execute_result"
    }
   ],
   "source": [
    "bizitobs_l2c_H.head()"
   ]
  },
  {
   "cell_type": "code",
   "execution_count": 22,
   "id": "c1161c0f",
   "metadata": {},
   "outputs": [
    {
     "data": {
      "text/html": [
       "<div>\n",
       "<style scoped>\n",
       "    .dataframe tbody tr th:only-of-type {\n",
       "        vertical-align: middle;\n",
       "    }\n",
       "\n",
       "    .dataframe tbody tr th {\n",
       "        vertical-align: top;\n",
       "    }\n",
       "\n",
       "    .dataframe thead th {\n",
       "        text-align: right;\n",
       "    }\n",
       "</style>\n",
       "<table border=\"1\" class=\"dataframe\">\n",
       "  <thead>\n",
       "    <tr style=\"text-align: right;\">\n",
       "      <th></th>\n",
       "      <th>item_id</th>\n",
       "      <th>start</th>\n",
       "      <th>target</th>\n",
       "      <th>past_feat_dynamic_real</th>\n",
       "      <th>freq</th>\n",
       "      <th>set</th>\n",
       "    </tr>\n",
       "  </thead>\n",
       "  <tbody>\n",
       "    <tr>\n",
       "      <th>0</th>\n",
       "      <td>Robot-Shop</td>\n",
       "      <td>2023-03-13 10:01:50</td>\n",
       "      <td>[[41.856575, 41.856575, 41.769497, 41.88786, 4...</td>\n",
       "      <td>[[0.0, 0.0, 0.0, 0.0, 0.0, 0.0, 0.0, 0.0, 0.0,...</td>\n",
       "      <td>10S</td>\n",
       "      <td>test</td>\n",
       "    </tr>\n",
       "    <tr>\n",
       "      <th>1</th>\n",
       "      <td>Robot-Shop</td>\n",
       "      <td>2023-03-14 08:04:10</td>\n",
       "      <td>[[44.210148, 44.315212, 44.062885, 44.169506, ...</td>\n",
       "      <td>[[1.0, 1.0, 1.0, 1.0, 1.0, 1.0, 1.0, 1.0, 1.0,...</td>\n",
       "      <td>10S</td>\n",
       "      <td>test</td>\n",
       "    </tr>\n",
       "    <tr>\n",
       "      <th>2</th>\n",
       "      <td>Robot-Shop</td>\n",
       "      <td>2023-03-13 10:01:50</td>\n",
       "      <td>[[41.856575, 41.856575, 41.769497, 41.88786, 4...</td>\n",
       "      <td>[[0.0, 0.0, 0.0, 0.0, 0.0, 0.0, 0.0, 0.0, 0.0,...</td>\n",
       "      <td>10S</td>\n",
       "      <td>test</td>\n",
       "    </tr>\n",
       "    <tr>\n",
       "      <th>3</th>\n",
       "      <td>Robot-Shop</td>\n",
       "      <td>2023-03-14 08:14:10</td>\n",
       "      <td>[[45.414776, 45.280277, 45.390102, 45.085144, ...</td>\n",
       "      <td>[[1.0, 1.0, 1.0, 1.0, 1.0, 1.0, 1.0, 1.0, 1.0,...</td>\n",
       "      <td>10S</td>\n",
       "      <td>test</td>\n",
       "    </tr>\n",
       "    <tr>\n",
       "      <th>4</th>\n",
       "      <td>Robot-Shop</td>\n",
       "      <td>2023-03-13 10:01:50</td>\n",
       "      <td>[[41.856575, 41.856575, 41.769497, 41.88786, 4...</td>\n",
       "      <td>[[0.0, 0.0, 0.0, 0.0, 0.0, 0.0, 0.0, 0.0, 0.0,...</td>\n",
       "      <td>10S</td>\n",
       "      <td>test</td>\n",
       "    </tr>\n",
       "  </tbody>\n",
       "</table>\n",
       "</div>"
      ],
      "text/plain": [
       "      item_id                start  \\\n",
       "0  Robot-Shop  2023-03-13 10:01:50   \n",
       "1  Robot-Shop  2023-03-14 08:04:10   \n",
       "2  Robot-Shop  2023-03-13 10:01:50   \n",
       "3  Robot-Shop  2023-03-14 08:14:10   \n",
       "4  Robot-Shop  2023-03-13 10:01:50   \n",
       "\n",
       "                                              target  \\\n",
       "0  [[41.856575, 41.856575, 41.769497, 41.88786, 4...   \n",
       "1  [[44.210148, 44.315212, 44.062885, 44.169506, ...   \n",
       "2  [[41.856575, 41.856575, 41.769497, 41.88786, 4...   \n",
       "3  [[45.414776, 45.280277, 45.390102, 45.085144, ...   \n",
       "4  [[41.856575, 41.856575, 41.769497, 41.88786, 4...   \n",
       "\n",
       "                              past_feat_dynamic_real freq   set  \n",
       "0  [[0.0, 0.0, 0.0, 0.0, 0.0, 0.0, 0.0, 0.0, 0.0,...  10S  test  \n",
       "1  [[1.0, 1.0, 1.0, 1.0, 1.0, 1.0, 1.0, 1.0, 1.0,...  10S  test  \n",
       "2  [[0.0, 0.0, 0.0, 0.0, 0.0, 0.0, 0.0, 0.0, 0.0,...  10S  test  \n",
       "3  [[1.0, 1.0, 1.0, 1.0, 1.0, 1.0, 1.0, 1.0, 1.0,...  10S  test  \n",
       "4  [[0.0, 0.0, 0.0, 0.0, 0.0, 0.0, 0.0, 0.0, 0.0,...  10S  test  "
      ]
     },
     "execution_count": 22,
     "metadata": {},
     "output_type": "execute_result"
    }
   ],
   "source": [
    "bizitobs_application.head()"
   ]
  },
  {
   "cell_type": "code",
   "execution_count": 23,
   "id": "11998027",
   "metadata": {},
   "outputs": [
    {
     "data": {
      "text/html": [
       "<div>\n",
       "<style scoped>\n",
       "    .dataframe tbody tr th:only-of-type {\n",
       "        vertical-align: middle;\n",
       "    }\n",
       "\n",
       "    .dataframe tbody tr th {\n",
       "        vertical-align: top;\n",
       "    }\n",
       "\n",
       "    .dataframe thead th {\n",
       "        text-align: right;\n",
       "    }\n",
       "</style>\n",
       "<table border=\"1\" class=\"dataframe\">\n",
       "  <thead>\n",
       "    <tr style=\"text-align: right;\">\n",
       "      <th></th>\n",
       "      <th>item_id</th>\n",
       "      <th>start</th>\n",
       "      <th>target</th>\n",
       "      <th>past_feat_dynamic_real</th>\n",
       "      <th>freq</th>\n",
       "      <th>set</th>\n",
       "    </tr>\n",
       "  </thead>\n",
       "  <tbody>\n",
       "    <tr>\n",
       "      <th>0</th>\n",
       "      <td>MySQL@3306 on demo-mysql</td>\n",
       "      <td>2023-03-13 10:01:50</td>\n",
       "      <td>[[0.64039606, 0.64039606, 0.6434574, 0.6433427...</td>\n",
       "      <td>[[0.0, 0.0, 0.0, 0.0, 0.0, 0.0, 0.0, 1.0, 1.0,...</td>\n",
       "      <td>10S</td>\n",
       "      <td>test</td>\n",
       "    </tr>\n",
       "    <tr>\n",
       "      <th>1</th>\n",
       "      <td>MySQL@3306 on demo-mysql</td>\n",
       "      <td>2023-03-14 08:04:20</td>\n",
       "      <td>[[0.61663806, 0.61601025, 0.61729956, 0.615611...</td>\n",
       "      <td>[[0.0, 0.0, 0.0, 0.0, 0.0, 0.0, 0.0, 0.0, 0.0,...</td>\n",
       "      <td>10S</td>\n",
       "      <td>test</td>\n",
       "    </tr>\n",
       "    <tr>\n",
       "      <th>2</th>\n",
       "      <td>MySQL@3306 on demo-mysql</td>\n",
       "      <td>2023-03-13 10:01:50</td>\n",
       "      <td>[[0.64039606, 0.64039606, 0.6434574, 0.6433427...</td>\n",
       "      <td>[[0.0, 0.0, 0.0, 0.0, 0.0, 0.0, 0.0, 1.0, 1.0,...</td>\n",
       "      <td>10S</td>\n",
       "      <td>test</td>\n",
       "    </tr>\n",
       "    <tr>\n",
       "      <th>3</th>\n",
       "      <td>MySQL@3306 on demo-mysql</td>\n",
       "      <td>2023-03-14 08:14:20</td>\n",
       "      <td>[[0.62079376, 0.61588264, 0.615252, 0.6140578,...</td>\n",
       "      <td>[[0.0, 0.0, 0.0, 0.0, 0.0, 0.0, 0.0, 0.0, 0.0,...</td>\n",
       "      <td>10S</td>\n",
       "      <td>test</td>\n",
       "    </tr>\n",
       "    <tr>\n",
       "      <th>4</th>\n",
       "      <td>MySQL@3306 on demo-mysql</td>\n",
       "      <td>2023-03-13 10:01:50</td>\n",
       "      <td>[[0.64039606, 0.64039606, 0.6434574, 0.6433427...</td>\n",
       "      <td>[[0.0, 0.0, 0.0, 0.0, 0.0, 0.0, 0.0, 1.0, 1.0,...</td>\n",
       "      <td>10S</td>\n",
       "      <td>test</td>\n",
       "    </tr>\n",
       "  </tbody>\n",
       "</table>\n",
       "</div>"
      ],
      "text/plain": [
       "                    item_id                start  \\\n",
       "0  MySQL@3306 on demo-mysql  2023-03-13 10:01:50   \n",
       "1  MySQL@3306 on demo-mysql  2023-03-14 08:04:20   \n",
       "2  MySQL@3306 on demo-mysql  2023-03-13 10:01:50   \n",
       "3  MySQL@3306 on demo-mysql  2023-03-14 08:14:20   \n",
       "4  MySQL@3306 on demo-mysql  2023-03-13 10:01:50   \n",
       "\n",
       "                                              target  \\\n",
       "0  [[0.64039606, 0.64039606, 0.6434574, 0.6433427...   \n",
       "1  [[0.61663806, 0.61601025, 0.61729956, 0.615611...   \n",
       "2  [[0.64039606, 0.64039606, 0.6434574, 0.6433427...   \n",
       "3  [[0.62079376, 0.61588264, 0.615252, 0.6140578,...   \n",
       "4  [[0.64039606, 0.64039606, 0.6434574, 0.6433427...   \n",
       "\n",
       "                              past_feat_dynamic_real freq   set  \n",
       "0  [[0.0, 0.0, 0.0, 0.0, 0.0, 0.0, 0.0, 1.0, 1.0,...  10S  test  \n",
       "1  [[0.0, 0.0, 0.0, 0.0, 0.0, 0.0, 0.0, 0.0, 0.0,...  10S  test  \n",
       "2  [[0.0, 0.0, 0.0, 0.0, 0.0, 0.0, 0.0, 1.0, 1.0,...  10S  test  \n",
       "3  [[0.0, 0.0, 0.0, 0.0, 0.0, 0.0, 0.0, 0.0, 0.0,...  10S  test  \n",
       "4  [[0.0, 0.0, 0.0, 0.0, 0.0, 0.0, 0.0, 1.0, 1.0,...  10S  test  "
      ]
     },
     "execution_count": 23,
     "metadata": {},
     "output_type": "execute_result"
    }
   ],
   "source": [
    "bizitobs_service.head()"
   ]
  },
  {
   "cell_type": "markdown",
   "id": "3986ac65",
   "metadata": {},
   "source": [
    "### Bitbrains - Fast Storage and rnd (Domain: Web/Workloads)"
   ]
  },
  {
   "cell_type": "code",
   "execution_count": null,
   "id": "89ffcad7",
   "metadata": {},
   "outputs": [],
   "source": [
    "bitbrains_fast_storage_5T = gift_data_to_df('bitbrains_fast_storage/5T')\n",
    "bitbrains_fast_storage_H = gift_data_to_df('bitbrains_fast_storage/H')\n",
    "\n",
    "bitbrains_rnd_5T = gift_data_to_df('bitbrains_rnd/5T')\n",
    "bitbrains_rnd_H = gift_data_to_df('bitbrains_rnd/H')"
   ]
  },
  {
   "cell_type": "code",
   "execution_count": 25,
   "id": "52fd3eba",
   "metadata": {},
   "outputs": [
    {
     "data": {
      "text/plain": [
       "((45000, 6), (5000, 6), (18000, 6), (2000, 6))"
      ]
     },
     "execution_count": 25,
     "metadata": {},
     "output_type": "execute_result"
    }
   ],
   "source": [
    "bitbrains_fast_storage_5T.shape, bitbrains_fast_storage_H.shape, bitbrains_rnd_5T.shape, bitbrains_rnd_H.shape"
   ]
  },
  {
   "cell_type": "markdown",
   "id": "89d63768",
   "metadata": {},
   "source": [
    "### Jena Weather (Domain: Nature)"
   ]
  },
  {
   "cell_type": "code",
   "execution_count": null,
   "id": "1403b5b0",
   "metadata": {},
   "outputs": [],
   "source": [
    "jena_weather_10T = gift_data_to_df(\"jena_weather/10T\")"
   ]
  },
  {
   "cell_type": "code",
   "execution_count": 4,
   "id": "04d3dafa",
   "metadata": {},
   "outputs": [
    {
     "data": {
      "text/html": [
       "<div>\n",
       "<style scoped>\n",
       "    .dataframe tbody tr th:only-of-type {\n",
       "        vertical-align: middle;\n",
       "    }\n",
       "\n",
       "    .dataframe tbody tr th {\n",
       "        vertical-align: top;\n",
       "    }\n",
       "\n",
       "    .dataframe thead th {\n",
       "        text-align: right;\n",
       "    }\n",
       "</style>\n",
       "<table border=\"1\" class=\"dataframe\">\n",
       "  <thead>\n",
       "    <tr style=\"text-align: right;\">\n",
       "      <th></th>\n",
       "      <th>item_id</th>\n",
       "      <th>start</th>\n",
       "      <th>freq</th>\n",
       "      <th>target</th>\n",
       "      <th>set</th>\n",
       "    </tr>\n",
       "  </thead>\n",
       "  <tbody>\n",
       "    <tr>\n",
       "      <th>0</th>\n",
       "      <td>item_0</td>\n",
       "      <td>2020-01-01 00:10</td>\n",
       "      <td>10T</td>\n",
       "      <td>[[1008.89, 1008.76, 1008.66, 1008.64, 1008.61,...</td>\n",
       "      <td>test</td>\n",
       "    </tr>\n",
       "    <tr>\n",
       "      <th>1</th>\n",
       "      <td>item_0</td>\n",
       "      <td>2020-12-25 08:10</td>\n",
       "      <td>10T</td>\n",
       "      <td>[[990.87, 991.0, 991.11, 991.33, 991.52, 991.6...</td>\n",
       "      <td>test</td>\n",
       "    </tr>\n",
       "    <tr>\n",
       "      <th>2</th>\n",
       "      <td>item_0</td>\n",
       "      <td>2020-01-01 00:10</td>\n",
       "      <td>10T</td>\n",
       "      <td>[[1008.89, 1008.76, 1008.66, 1008.64, 1008.61,...</td>\n",
       "      <td>test</td>\n",
       "    </tr>\n",
       "    <tr>\n",
       "      <th>3</th>\n",
       "      <td>item_0</td>\n",
       "      <td>2020-12-25 16:10</td>\n",
       "      <td>10T</td>\n",
       "      <td>[[994.22, 994.26, 994.4, 994.51, 994.68, 994.8...</td>\n",
       "      <td>test</td>\n",
       "    </tr>\n",
       "    <tr>\n",
       "      <th>4</th>\n",
       "      <td>item_0</td>\n",
       "      <td>2020-01-01 00:10</td>\n",
       "      <td>10T</td>\n",
       "      <td>[[1008.89, 1008.76, 1008.66, 1008.64, 1008.61,...</td>\n",
       "      <td>test</td>\n",
       "    </tr>\n",
       "  </tbody>\n",
       "</table>\n",
       "</div>"
      ],
      "text/plain": [
       "  item_id             start freq  \\\n",
       "0  item_0  2020-01-01 00:10  10T   \n",
       "1  item_0  2020-12-25 08:10  10T   \n",
       "2  item_0  2020-01-01 00:10  10T   \n",
       "3  item_0  2020-12-25 16:10  10T   \n",
       "4  item_0  2020-01-01 00:10  10T   \n",
       "\n",
       "                                              target   set  \n",
       "0  [[1008.89, 1008.76, 1008.66, 1008.64, 1008.61,...  test  \n",
       "1  [[990.87, 991.0, 991.11, 991.33, 991.52, 991.6...  test  \n",
       "2  [[1008.89, 1008.76, 1008.66, 1008.64, 1008.61,...  test  \n",
       "3  [[994.22, 994.26, 994.4, 994.51, 994.68, 994.8...  test  \n",
       "4  [[1008.89, 1008.76, 1008.66, 1008.64, 1008.61,...  test  "
      ]
     },
     "execution_count": 4,
     "metadata": {},
     "output_type": "execute_result"
    }
   ],
   "source": [
    "jena_weather_10T.head()"
   ]
  },
  {
   "cell_type": "code",
   "execution_count": 5,
   "id": "88e064c0",
   "metadata": {},
   "outputs": [
    {
     "data": {
      "text/plain": [
       "(40, 5)"
      ]
     },
     "execution_count": 5,
     "metadata": {},
     "output_type": "execute_result"
    }
   ],
   "source": [
    "jena_weather_10T.shape"
   ]
  },
  {
   "cell_type": "code",
   "execution_count": 6,
   "id": "b176d90b",
   "metadata": {},
   "outputs": [
    {
     "name": "stderr",
     "output_type": "stream",
     "text": [
      "c:\\Documenti\\VS_Code\\tesi\\TSFM-ZeroShotEval\\gift_eval\\data.py:149: FutureWarning: 'H' is deprecated and will be removed in a future version, please use 'h' instead.\n",
      "  freq = norm_freq_str(to_offset(self.freq).name)\n",
      "c:\\Users\\giuli\\anaconda3\\lib\\site-packages\\gluonts\\dataset\\common.py:263: FutureWarning: 'H' is deprecated and will be removed in a future version, please use 'h' instead.\n",
      "  return pd.Period(val, freq)\n"
     ]
    }
   ],
   "source": [
    "jena_weather_H = gift_data_to_df(\"jena_weather/H\")"
   ]
  },
  {
   "cell_type": "code",
   "execution_count": 7,
   "id": "1737f43f",
   "metadata": {},
   "outputs": [
    {
     "data": {
      "text/html": [
       "<div>\n",
       "<style scoped>\n",
       "    .dataframe tbody tr th:only-of-type {\n",
       "        vertical-align: middle;\n",
       "    }\n",
       "\n",
       "    .dataframe tbody tr th {\n",
       "        vertical-align: top;\n",
       "    }\n",
       "\n",
       "    .dataframe thead th {\n",
       "        text-align: right;\n",
       "    }\n",
       "</style>\n",
       "<table border=\"1\" class=\"dataframe\">\n",
       "  <thead>\n",
       "    <tr style=\"text-align: right;\">\n",
       "      <th></th>\n",
       "      <th>item_id</th>\n",
       "      <th>start</th>\n",
       "      <th>freq</th>\n",
       "      <th>target</th>\n",
       "      <th>set</th>\n",
       "    </tr>\n",
       "  </thead>\n",
       "  <tbody>\n",
       "    <tr>\n",
       "      <th>0</th>\n",
       "      <td>item_0</td>\n",
       "      <td>2020-01-01 00:00</td>\n",
       "      <td>H</td>\n",
       "      <td>[[1008.712, 1008.3567, 1008.3333, 1008.1667, 1...</td>\n",
       "      <td>test</td>\n",
       "    </tr>\n",
       "    <tr>\n",
       "      <th>1</th>\n",
       "      <td>item_0</td>\n",
       "      <td>2020-11-24 00:00</td>\n",
       "      <td>H</td>\n",
       "      <td>[[1003.365, 1002.8617, 1002.42334, 1001.98334,...</td>\n",
       "      <td>test</td>\n",
       "    </tr>\n",
       "    <tr>\n",
       "      <th>2</th>\n",
       "      <td>item_0</td>\n",
       "      <td>2020-01-01 00:00</td>\n",
       "      <td>H</td>\n",
       "      <td>[[1008.712, 1008.3567, 1008.3333, 1008.1667, 1...</td>\n",
       "      <td>test</td>\n",
       "    </tr>\n",
       "    <tr>\n",
       "      <th>3</th>\n",
       "      <td>item_0</td>\n",
       "      <td>2020-11-26 00:00</td>\n",
       "      <td>H</td>\n",
       "      <td>[[995.12335, 995.1983, 995.2867, 995.185, 995....</td>\n",
       "      <td>test</td>\n",
       "    </tr>\n",
       "    <tr>\n",
       "      <th>4</th>\n",
       "      <td>item_0</td>\n",
       "      <td>2020-01-01 00:00</td>\n",
       "      <td>H</td>\n",
       "      <td>[[1008.712, 1008.3567, 1008.3333, 1008.1667, 1...</td>\n",
       "      <td>test</td>\n",
       "    </tr>\n",
       "  </tbody>\n",
       "</table>\n",
       "</div>"
      ],
      "text/plain": [
       "  item_id             start freq  \\\n",
       "0  item_0  2020-01-01 00:00    H   \n",
       "1  item_0  2020-11-24 00:00    H   \n",
       "2  item_0  2020-01-01 00:00    H   \n",
       "3  item_0  2020-11-26 00:00    H   \n",
       "4  item_0  2020-01-01 00:00    H   \n",
       "\n",
       "                                              target   set  \n",
       "0  [[1008.712, 1008.3567, 1008.3333, 1008.1667, 1...  test  \n",
       "1  [[1003.365, 1002.8617, 1002.42334, 1001.98334,...  test  \n",
       "2  [[1008.712, 1008.3567, 1008.3333, 1008.1667, 1...  test  \n",
       "3  [[995.12335, 995.1983, 995.2867, 995.185, 995....  test  \n",
       "4  [[1008.712, 1008.3567, 1008.3333, 1008.1667, 1...  test  "
      ]
     },
     "execution_count": 7,
     "metadata": {},
     "output_type": "execute_result"
    }
   ],
   "source": [
    "jena_weather_H.head()"
   ]
  },
  {
   "cell_type": "code",
   "execution_count": 8,
   "id": "5fce2a25",
   "metadata": {},
   "outputs": [
    {
     "data": {
      "text/plain": [
       "(38, 5)"
      ]
     },
     "execution_count": 8,
     "metadata": {},
     "output_type": "execute_result"
    }
   ],
   "source": [
    "jena_weather_H.shape"
   ]
  },
  {
   "cell_type": "code",
   "execution_count": 9,
   "id": "3e17f5f6",
   "metadata": {},
   "outputs": [],
   "source": [
    "jena_weather_D = gift_data_to_df(\"jena_weather/D\")"
   ]
  },
  {
   "cell_type": "code",
   "execution_count": 10,
   "id": "4893fd6e",
   "metadata": {},
   "outputs": [
    {
     "data": {
      "text/html": [
       "<div>\n",
       "<style scoped>\n",
       "    .dataframe tbody tr th:only-of-type {\n",
       "        vertical-align: middle;\n",
       "    }\n",
       "\n",
       "    .dataframe tbody tr th {\n",
       "        vertical-align: top;\n",
       "    }\n",
       "\n",
       "    .dataframe thead th {\n",
       "        text-align: right;\n",
       "    }\n",
       "</style>\n",
       "<table border=\"1\" class=\"dataframe\">\n",
       "  <thead>\n",
       "    <tr style=\"text-align: right;\">\n",
       "      <th></th>\n",
       "      <th>item_id</th>\n",
       "      <th>start</th>\n",
       "      <th>freq</th>\n",
       "      <th>target</th>\n",
       "      <th>set</th>\n",
       "    </tr>\n",
       "  </thead>\n",
       "  <tbody>\n",
       "    <tr>\n",
       "      <th>0</th>\n",
       "      <td>item_0</td>\n",
       "      <td>2020-01-01</td>\n",
       "      <td>D</td>\n",
       "      <td>[[1006.9588, 1001.05096, 993.8029, 998.24426, ...</td>\n",
       "      <td>test</td>\n",
       "    </tr>\n",
       "    <tr>\n",
       "      <th>1</th>\n",
       "      <td>item_0</td>\n",
       "      <td>2020-11-02</td>\n",
       "      <td>D</td>\n",
       "      <td>[[986.3354, 995.44116, 1004.14124, 1010.79205,...</td>\n",
       "      <td>test</td>\n",
       "    </tr>\n",
       "    <tr>\n",
       "      <th>2</th>\n",
       "      <td>item_0</td>\n",
       "      <td>2020-01-01</td>\n",
       "      <td>D</td>\n",
       "      <td>[[1006.9588, 1001.05096, 993.8029, 998.24426, ...</td>\n",
       "      <td>test</td>\n",
       "    </tr>\n",
       "    <tr>\n",
       "      <th>3</th>\n",
       "      <td>item_0</td>\n",
       "      <td>2020-12-02</td>\n",
       "      <td>D</td>\n",
       "      <td>[[990.6707, 978.89685, 966.8434, 972.71375, 97...</td>\n",
       "      <td>test</td>\n",
       "    </tr>\n",
       "  </tbody>\n",
       "</table>\n",
       "</div>"
      ],
      "text/plain": [
       "  item_id       start freq                                             target  \\\n",
       "0  item_0  2020-01-01    D  [[1006.9588, 1001.05096, 993.8029, 998.24426, ...   \n",
       "1  item_0  2020-11-02    D  [[986.3354, 995.44116, 1004.14124, 1010.79205,...   \n",
       "2  item_0  2020-01-01    D  [[1006.9588, 1001.05096, 993.8029, 998.24426, ...   \n",
       "3  item_0  2020-12-02    D  [[990.6707, 978.89685, 966.8434, 972.71375, 97...   \n",
       "\n",
       "    set  \n",
       "0  test  \n",
       "1  test  \n",
       "2  test  \n",
       "3  test  "
      ]
     },
     "execution_count": 10,
     "metadata": {},
     "output_type": "execute_result"
    }
   ],
   "source": [
    "jena_weather_D.head()"
   ]
  },
  {
   "cell_type": "code",
   "execution_count": 15,
   "id": "52171243",
   "metadata": {},
   "outputs": [
    {
     "data": {
      "text/plain": [
       "(21, 306)"
      ]
     },
     "execution_count": 15,
     "metadata": {},
     "output_type": "execute_result"
    }
   ],
   "source": [
    "jena_weather_D[\"target\"][0].shape"
   ]
  },
  {
   "cell_type": "code",
   "execution_count": 11,
   "id": "0ebe1622",
   "metadata": {},
   "outputs": [
    {
     "data": {
      "text/plain": [
       "(4, 5)"
      ]
     },
     "execution_count": 11,
     "metadata": {},
     "output_type": "execute_result"
    }
   ],
   "source": [
    "jena_weather_D.shape"
   ]
  },
  {
   "cell_type": "markdown",
   "id": "72861fcd",
   "metadata": {},
   "source": [
    "### Solar (Domain: Energy)"
   ]
  },
  {
   "cell_type": "code",
   "execution_count": null,
   "id": "52be9181",
   "metadata": {},
   "outputs": [],
   "source": [
    "solar_10T = gift_data_to_df(\"solar/10T\")\n",
    "solar_H = gift_data_to_df(\"solar/H\")\n",
    "solar_D = gift_data_to_df(\"solar/D\")\n",
    "solar_W = gift_data_to_df(\"solar/W\")"
   ]
  },
  {
   "cell_type": "code",
   "execution_count": 27,
   "id": "bc9fee5a",
   "metadata": {},
   "outputs": [
    {
     "data": {
      "text/plain": [
       "((5480, 5), (5206, 5), (548, 5), (274, 5))"
      ]
     },
     "execution_count": 27,
     "metadata": {},
     "output_type": "execute_result"
    }
   ],
   "source": [
    "solar_10T.shape, solar_H.shape, solar_D.shape, solar_W.shape"
   ]
  },
  {
   "cell_type": "markdown",
   "id": "2382d65e",
   "metadata": {},
   "source": [
    "#### Web/Workloads\n",
    "'bizitobs_l2c/5T',\n",
    "'bizitobs_l2c/H',\n",
    "\n",
    "'bizitobs_application',\n",
    "'bizitobs_service',\n",
    "\n",
    "'bitbrains_fast_storage/5T',\n",
    "'bitbrains_fast_storage/H',\n",
    "\n",
    "'bitbrains_rnd/5T'\n",
    "'bitbrains_rnd/H',\n",
    "\n",
    "#### Energy\n",
    "'solar/H',\n",
    "'solar/10T',\n",
    "'solar/D',\n",
    "'solar/W',\n",
    "\n",
    "#### Nature\n",
    "'jena_weather/10T',\n",
    "'jena_weather/H',\n",
    "'jena_weather/D',"
   ]
  }
 ],
 "metadata": {
  "kernelspec": {
   "display_name": "base",
   "language": "python",
   "name": "python3"
  },
  "language_info": {
   "codemirror_mode": {
    "name": "ipython",
    "version": 3
   },
   "file_extension": ".py",
   "mimetype": "text/x-python",
   "name": "python",
   "nbconvert_exporter": "python",
   "pygments_lexer": "ipython3",
   "version": "3.10.9"
  }
 },
 "nbformat": 4,
 "nbformat_minor": 5
}
