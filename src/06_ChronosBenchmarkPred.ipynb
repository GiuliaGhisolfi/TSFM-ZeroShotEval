{
 "cells": [
  {
   "cell_type": "code",
   "execution_count": null,
   "id": "1841c0e8",
   "metadata": {},
   "outputs": [],
   "source": [
    "!pip install gluonts\n",
    "!pip install --upgrade datasets\n",
    "!pip install utilsforecast"
   ]
  },
  {
   "cell_type": "code",
   "execution_count": null,
   "id": "f18cff76",
   "metadata": {},
   "outputs": [],
   "source": [
    "!git clone https://github.com/GiuliaGhisolfi/TSFM-ZeroShotEval\n",
    "%cd TSFM-ZeroShotEval/src"
   ]
  },
  {
   "cell_type": "code",
   "execution_count": null,
   "id": "7aab45d5",
   "metadata": {},
   "outputs": [],
   "source": [
    "%env PYTORCH_CUDA_ALLOC_CONF=expandable_segments:True"
   ]
  },
  {
   "cell_type": "markdown",
   "id": "02eba777",
   "metadata": {},
   "source": [
    "### Import data"
   ]
  },
  {
   "cell_type": "code",
   "execution_count": null,
   "id": "bbf66515",
   "metadata": {},
   "outputs": [],
   "source": [
    "DATASET_NAME = [\"exchange_rate\", \"ercot\", \"dominick\"]"
   ]
  },
  {
   "cell_type": "markdown",
   "id": "abcef99e",
   "metadata": {},
   "source": [
    "### Results file"
   ]
  },
  {
   "cell_type": "code",
   "execution_count": null,
   "id": "a7648b08",
   "metadata": {},
   "outputs": [],
   "source": [
    "import os\n",
    "from utils.save_results import create_output_file, save_results\n",
    "\n",
    "output_file_name = \"chronos_benchmark_results.csv\"\n",
    "\n",
    "output_dir=\"results\"\n",
    "csv_file_path = os.path.join(output_dir, output_file_name)\n",
    "\n",
    "create_output_file(output_file_name, output_dir)"
   ]
  },
  {
   "cell_type": "markdown",
   "id": "613f589b",
   "metadata": {},
   "source": [
    "## Evaluation"
   ]
  },
  {
   "cell_type": "code",
   "execution_count": null,
   "id": "c8a2d25a",
   "metadata": {},
   "outputs": [],
   "source": [
    "from gluonts.model import evaluate_model\n",
    "from gluonts.time_feature import get_seasonality\n",
    "from utils.load_chronos_data import load_data"
   ]
  },
  {
   "cell_type": "code",
   "execution_count": 11,
   "id": "ec22642b",
   "metadata": {},
   "outputs": [],
   "source": [
    "from utils.metrics import get_metrics\n",
    "\n",
    "# Instantiate the metrics\n",
    "metrics = get_metrics()"
   ]
  },
  {
   "cell_type": "markdown",
   "id": "32f18dcf",
   "metadata": {},
   "source": [
    "### Chronos"
   ]
  },
  {
   "cell_type": "code",
   "execution_count": null,
   "id": "d83b5d4d",
   "metadata": {},
   "outputs": [],
   "source": [
    "CHRONOS_MODEL_NAME = [\"chronos_bolt_tiny\", \"chronos_bolt_mini\", \"chronos_bolt_small\", \"chronos_bolt_base\"]\n",
    "\n",
    "CHRONOS_MODEL = [\"amazon/chronos-bolt-tiny\", \"amazon/chronos-bolt-mini\",\n",
    "    \"amazon/chronos-bolt-small\", \"amazon/chronos-bolt-base\"]\n",
    "# \"amazon/chronos-t5-tiny\", \"amazon/chronos-t5-mini\", \"amazon/chronos-t5-small\",\n",
    "# \"amazon/chronos-t5-base\", \"amazon/chronos-t5-large\","
   ]
  },
  {
   "cell_type": "code",
   "execution_count": null,
   "id": "d5befed5",
   "metadata": {},
   "outputs": [],
   "source": [
    "from utils.chronos_predictor import ChronosPredictor\n",
    "\n",
    "for model_name, model_path in zip(CHRONOS_MODEL_NAME, CHRONOS_MODEL):\n",
    "    for ds_name in DATASET_NAME:\n",
    "        print(f\"Processing dataset: {ds_name}\")\n",
    "\n",
    "        terms = [\"short\", \"medium\", \"long\"]\n",
    "        for term in terms:\n",
    "            ds_config = f\"{ds_name}/{term}\"\n",
    "\n",
    "            dataset, prediction_length, frequency, domain, num_variates = load_data(ds_name, term)\n",
    "            season_length = get_seasonality(frequency)\n",
    "\n",
    "            predictor = ChronosPredictor(\n",
    "                model_path=model_path,\n",
    "                num_samples=20,\n",
    "                prediction_length=prediction_length,\n",
    "                # Change device_map to \"cpu\" to run on CPU or \"cuda\" to run on GPU\n",
    "                device_map=\"cuda\",\n",
    "            )\n",
    "\n",
    "            res = evaluate_model(\n",
    "                predictor,\n",
    "                test_data=dataset,\n",
    "                metrics=metrics,\n",
    "                batch_size=512,\n",
    "                axis=None,\n",
    "                mask_invalid_label=True,\n",
    "                allow_nan_forecast=False,\n",
    "                seasonality=season_length,\n",
    "            )\n",
    "\n",
    "            # Append the results to the CSV file\n",
    "            save_results(res, ds_config, model_name, domain, num_variates, ds_name, csv_file_path)"
   ]
  },
  {
   "cell_type": "markdown",
   "id": "91b9f4d4",
   "metadata": {},
   "source": [
    "### Moirai"
   ]
  },
  {
   "cell_type": "code",
   "execution_count": null,
   "id": "ed7e167b",
   "metadata": {},
   "outputs": [],
   "source": [
    "MOIRAI_MODEL_NAME = [\"moirai_small\", \"moirai_base\", \"moirai_large\"]\n",
    "\n",
    "MOIRAI_MODEL = [\"Salesforce/moirai-1.1-R-small\", \"Salesforce/moirai-1.1-R-base\", \n",
    "    \"Salesforce/moirai-1.1-R-large\"]\n",
    "#\"Salesforce/moirai-moe-1.0-R-base\", \"Salesforce/moirai-moe-1.0-R-small\""
   ]
  },
  {
   "cell_type": "code",
   "execution_count": null,
   "id": "3f53e39d",
   "metadata": {},
   "outputs": [],
   "source": [
    "from utils.moirai_predictor import load_predictor\n",
    "\n",
    "for model_name, model_path in zip(MOIRAI_MODEL_NAME, MOIRAI_MODEL):\n",
    "    for ds_name in DATASET_NAME:\n",
    "        print(f\"Processing dataset: {ds_name}\")\n",
    "\n",
    "        terms = [\"short\", \"medium\", \"long\"]\n",
    "        for term in terms:\n",
    "            ds_config = f\"{ds_name}/{term}\"\n",
    "\n",
    "            dataset, prediction_length, frequency, domain, num_variates = load_data(ds_name, term)\n",
    "            season_length = get_seasonality(frequency)\n",
    "\n",
    "            predictor = load_predictor(model_path, prediction_length, num_variates)\n",
    "\n",
    "            res = evaluate_model(\n",
    "                predictor,\n",
    "                test_data=dataset,\n",
    "                metrics=metrics,\n",
    "                batch_size=512,\n",
    "                axis=None,\n",
    "                mask_invalid_label=True,\n",
    "                allow_nan_forecast=False,\n",
    "                seasonality=season_length,\n",
    "            )\n",
    "\n",
    "            # Append the results to the CSV file\n",
    "            save_results(res, ds_config, model_name, domain, num_variates, ds_name, csv_file_path)"
   ]
  },
  {
   "cell_type": "markdown",
   "id": "44285fa1",
   "metadata": {},
   "source": [
    "### TimesFM"
   ]
  },
  {
   "cell_type": "code",
   "execution_count": null,
   "id": "fe3badf5",
   "metadata": {},
   "outputs": [],
   "source": [
    "TIMESFM_MODEL_NAME = [\"timesfm2\", \"timesfm1\"]\n",
    "\n",
    "TIMESFM_MODEL = [\"google/timesfm-2.0-500m-pytorch\", \"google/timesfm-1.0-200m-pytorch\"]"
   ]
  },
  {
   "cell_type": "code",
   "execution_count": null,
   "id": "0d4b27cb",
   "metadata": {},
   "outputs": [],
   "source": [
    "from utils.timesfm_predictor import load_predictor\n",
    "\n",
    "for model_name, model_path in zip(TIMESFM_MODEL_NAME, TIMESFM_MODEL):\n",
    "    for ds_name in DATASET_NAME:\n",
    "        print(f\"Processing dataset: {ds_name}\")\n",
    "\n",
    "        terms = [\"short\", \"medium\", \"long\"]\n",
    "        for term in terms:\n",
    "            ds_config = f\"{ds_name}/{term}\"\n",
    "\n",
    "            dataset, prediction_length, frequency, domain, num_variates = load_data(ds_name, term)\n",
    "            season_length = get_seasonality(frequency)\n",
    "\n",
    "            predictor = load_predictor(model_path, prediction_length, frequency)\n",
    "\n",
    "            res = evaluate_model(\n",
    "                predictor,\n",
    "                test_data=dataset,\n",
    "                metrics=metrics,\n",
    "                batch_size=512,\n",
    "                axis=None,\n",
    "                mask_invalid_label=True,\n",
    "                allow_nan_forecast=False,\n",
    "                seasonality=season_length,\n",
    "            )\n",
    "\n",
    "            # Append the results to the CSV file\n",
    "            save_results(res, ds_config, model_name, domain, num_variates, ds_name, csv_file_path)"
   ]
  }
 ],
 "metadata": {
  "kernelspec": {
   "display_name": "base",
   "language": "python",
   "name": "python3"
  },
  "language_info": {
   "codemirror_mode": {
    "name": "ipython",
    "version": 3
   },
   "file_extension": ".py",
   "mimetype": "text/x-python",
   "name": "python",
   "nbconvert_exporter": "python",
   "pygments_lexer": "ipython3",
   "version": "3.10.9"
  }
 },
 "nbformat": 4,
 "nbformat_minor": 5
}
