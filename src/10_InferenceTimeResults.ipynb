{
 "cells": [
  {
   "cell_type": "code",
   "execution_count": 2,
   "id": "9aba8f90",
   "metadata": {},
   "outputs": [],
   "source": [
    "import pandas as pd"
   ]
  },
  {
   "cell_type": "code",
   "execution_count": 4,
   "id": "26d1e178",
   "metadata": {},
   "outputs": [
    {
     "data": {
      "text/html": [
       "<div>\n",
       "<style scoped>\n",
       "    .dataframe tbody tr th:only-of-type {\n",
       "        vertical-align: middle;\n",
       "    }\n",
       "\n",
       "    .dataframe tbody tr th {\n",
       "        vertical-align: top;\n",
       "    }\n",
       "\n",
       "    .dataframe thead th {\n",
       "        text-align: right;\n",
       "    }\n",
       "</style>\n",
       "<table border=\"1\" class=\"dataframe\">\n",
       "  <thead>\n",
       "    <tr style=\"text-align: right;\">\n",
       "      <th></th>\n",
       "      <th>model</th>\n",
       "      <th>dataset</th>\n",
       "      <th>trial</th>\n",
       "      <th>inference_time</th>\n",
       "      <th>domain</th>\n",
       "      <th>num_variates</th>\n",
       "      <th>prediction_length</th>\n",
       "      <th>frequency</th>\n",
       "    </tr>\n",
       "  </thead>\n",
       "  <tbody>\n",
       "    <tr>\n",
       "      <th>0</th>\n",
       "      <td>moirai_small</td>\n",
       "      <td>exchange_rate/short</td>\n",
       "      <td>0</td>\n",
       "      <td>0.000008</td>\n",
       "      <td>Econ/Fin</td>\n",
       "      <td>1</td>\n",
       "      <td>8</td>\n",
       "      <td>D</td>\n",
       "    </tr>\n",
       "    <tr>\n",
       "      <th>1</th>\n",
       "      <td>moirai_small</td>\n",
       "      <td>exchange_rate/short</td>\n",
       "      <td>1</td>\n",
       "      <td>0.000006</td>\n",
       "      <td>Econ/Fin</td>\n",
       "      <td>1</td>\n",
       "      <td>8</td>\n",
       "      <td>D</td>\n",
       "    </tr>\n",
       "    <tr>\n",
       "      <th>2</th>\n",
       "      <td>moirai_small</td>\n",
       "      <td>exchange_rate/short</td>\n",
       "      <td>2</td>\n",
       "      <td>0.000007</td>\n",
       "      <td>Econ/Fin</td>\n",
       "      <td>1</td>\n",
       "      <td>8</td>\n",
       "      <td>D</td>\n",
       "    </tr>\n",
       "    <tr>\n",
       "      <th>3</th>\n",
       "      <td>moirai_small</td>\n",
       "      <td>exchange_rate/short</td>\n",
       "      <td>3</td>\n",
       "      <td>0.000007</td>\n",
       "      <td>Econ/Fin</td>\n",
       "      <td>1</td>\n",
       "      <td>8</td>\n",
       "      <td>D</td>\n",
       "    </tr>\n",
       "    <tr>\n",
       "      <th>4</th>\n",
       "      <td>moirai_small</td>\n",
       "      <td>exchange_rate/short</td>\n",
       "      <td>4</td>\n",
       "      <td>0.000006</td>\n",
       "      <td>Econ/Fin</td>\n",
       "      <td>1</td>\n",
       "      <td>8</td>\n",
       "      <td>D</td>\n",
       "    </tr>\n",
       "    <tr>\n",
       "      <th>...</th>\n",
       "      <td>...</td>\n",
       "      <td>...</td>\n",
       "      <td>...</td>\n",
       "      <td>...</td>\n",
       "      <td>...</td>\n",
       "      <td>...</td>\n",
       "      <td>...</td>\n",
       "      <td>...</td>\n",
       "    </tr>\n",
       "    <tr>\n",
       "      <th>1285</th>\n",
       "      <td>moirai_large</td>\n",
       "      <td>bizitobs_application/10S/long</td>\n",
       "      <td>5</td>\n",
       "      <td>0.001901</td>\n",
       "      <td>Web/CloudOps</td>\n",
       "      <td>2</td>\n",
       "      <td>900</td>\n",
       "      <td>10S</td>\n",
       "    </tr>\n",
       "    <tr>\n",
       "      <th>1286</th>\n",
       "      <td>moirai_large</td>\n",
       "      <td>bizitobs_application/10S/long</td>\n",
       "      <td>6</td>\n",
       "      <td>0.001510</td>\n",
       "      <td>Web/CloudOps</td>\n",
       "      <td>2</td>\n",
       "      <td>900</td>\n",
       "      <td>10S</td>\n",
       "    </tr>\n",
       "    <tr>\n",
       "      <th>1287</th>\n",
       "      <td>moirai_large</td>\n",
       "      <td>bizitobs_application/10S/long</td>\n",
       "      <td>7</td>\n",
       "      <td>0.001712</td>\n",
       "      <td>Web/CloudOps</td>\n",
       "      <td>2</td>\n",
       "      <td>900</td>\n",
       "      <td>10S</td>\n",
       "    </tr>\n",
       "    <tr>\n",
       "      <th>1288</th>\n",
       "      <td>moirai_large</td>\n",
       "      <td>bizitobs_application/10S/long</td>\n",
       "      <td>8</td>\n",
       "      <td>0.001502</td>\n",
       "      <td>Web/CloudOps</td>\n",
       "      <td>2</td>\n",
       "      <td>900</td>\n",
       "      <td>10S</td>\n",
       "    </tr>\n",
       "    <tr>\n",
       "      <th>1289</th>\n",
       "      <td>moirai_large</td>\n",
       "      <td>bizitobs_application/10S/long</td>\n",
       "      <td>9</td>\n",
       "      <td>0.002002</td>\n",
       "      <td>Web/CloudOps</td>\n",
       "      <td>2</td>\n",
       "      <td>900</td>\n",
       "      <td>10S</td>\n",
       "    </tr>\n",
       "  </tbody>\n",
       "</table>\n",
       "<p>1290 rows × 8 columns</p>\n",
       "</div>"
      ],
      "text/plain": [
       "             model                        dataset  trial  inference_time  \\\n",
       "0     moirai_small            exchange_rate/short      0        0.000008   \n",
       "1     moirai_small            exchange_rate/short      1        0.000006   \n",
       "2     moirai_small            exchange_rate/short      2        0.000007   \n",
       "3     moirai_small            exchange_rate/short      3        0.000007   \n",
       "4     moirai_small            exchange_rate/short      4        0.000006   \n",
       "...            ...                            ...    ...             ...   \n",
       "1285  moirai_large  bizitobs_application/10S/long      5        0.001901   \n",
       "1286  moirai_large  bizitobs_application/10S/long      6        0.001510   \n",
       "1287  moirai_large  bizitobs_application/10S/long      7        0.001712   \n",
       "1288  moirai_large  bizitobs_application/10S/long      8        0.001502   \n",
       "1289  moirai_large  bizitobs_application/10S/long      9        0.002002   \n",
       "\n",
       "            domain  num_variates  prediction_length frequency  \n",
       "0         Econ/Fin             1                  8         D  \n",
       "1         Econ/Fin             1                  8         D  \n",
       "2         Econ/Fin             1                  8         D  \n",
       "3         Econ/Fin             1                  8         D  \n",
       "4         Econ/Fin             1                  8         D  \n",
       "...            ...           ...                ...       ...  \n",
       "1285  Web/CloudOps             2                900       10S  \n",
       "1286  Web/CloudOps             2                900       10S  \n",
       "1287  Web/CloudOps             2                900       10S  \n",
       "1288  Web/CloudOps             2                900       10S  \n",
       "1289  Web/CloudOps             2                900       10S  \n",
       "\n",
       "[1290 rows x 8 columns]"
      ]
     },
     "execution_count": 4,
     "metadata": {},
     "output_type": "execute_result"
    }
   ],
   "source": [
    "df = pd.read_csv(\"time_inference_results_moirai.csv\")\n",
    "df"
   ]
  },
  {
   "cell_type": "code",
   "execution_count": 7,
   "id": "35ff3117",
   "metadata": {},
   "outputs": [
    {
     "data": {
      "text/plain": [
       "(44, 41)"
      ]
     },
     "execution_count": 7,
     "metadata": {},
     "output_type": "execute_result"
    }
   ],
   "source": [
    "ds_small = df[df[\"model\"] == \"moirai_small\"][\"dataset\"].unique()\n",
    "ds_large = df[df[\"model\"] == \"moirai_large\"][\"dataset\"].unique()\n",
    "\n",
    "len(ds_small), len(ds_large)"
   ]
  },
  {
   "cell_type": "code",
   "execution_count": 8,
   "id": "c62c0820",
   "metadata": {},
   "outputs": [
    {
     "name": "stdout",
     "output_type": "stream",
     "text": [
      "jena_weather/H/short\n",
      "jena_weather/H/medium\n",
      "jena_weather/H/long\n"
     ]
    }
   ],
   "source": [
    "for ds in ds_small:\n",
    "    if ds not in ds_large:\n",
    "        print(ds)"
   ]
  },
  {
   "cell_type": "code",
   "execution_count": 10,
   "id": "2ab29de9",
   "metadata": {},
   "outputs": [],
   "source": [
    "tfm2_df = pd.read_csv(\"inftime_times_fm.csv\")\n",
    "ds_tfm2 = tfm2_df[\"dataset\"].unique()"
   ]
  },
  {
   "cell_type": "code",
   "execution_count": 12,
   "id": "e0d6e890",
   "metadata": {},
   "outputs": [
    {
     "data": {
      "text/plain": [
       "array(['exchange_rate/short', 'exchange_rate/medium',\n",
       "       'exchange_rate/long', 'ercot/short', 'ercot/medium', 'ercot/long',\n",
       "       'dominick/short', 'bitbrains_rnd/5T/short',\n",
       "       'bitbrains_rnd/5T/medium', 'bitbrains_rnd/5T/long',\n",
       "       'solar/H/short', 'solar/H/medium', 'solar/H/long',\n",
       "       'jena_weather/D/short', 'jena_weather/H/short',\n",
       "       'jena_weather/H/medium', 'jena_weather/H/long',\n",
       "       'bitbrains_fast_storage/H/short', 'solar/D/short',\n",
       "       'bitbrains_rnd/H/short', 'bitbrains_fast_storage/5T/short'],\n",
       "      dtype=object)"
      ]
     },
     "execution_count": 12,
     "metadata": {},
     "output_type": "execute_result"
    }
   ],
   "source": [
    "ds_tfm2"
   ]
  },
  {
   "cell_type": "code",
   "execution_count": 13,
   "id": "e568fd7f",
   "metadata": {},
   "outputs": [
    {
     "data": {
      "text/plain": [
       "['dominick/medium',\n",
       " 'dominick/long',\n",
       " 'solar/W/short',\n",
       " 'bizitobs_service/10S/short',\n",
       " 'bizitobs_service/10S/medium',\n",
       " 'bizitobs_service/10S/long',\n",
       " 'bizitobs_l2c/5T/short',\n",
       " 'bizitobs_l2c/5T/medium',\n",
       " 'bizitobs_l2c/5T/long',\n",
       " 'bitbrains_fast_storage/5T/medium',\n",
       " 'bitbrains_fast_storage/5T/long',\n",
       " 'bizitobs_application/10S/short',\n",
       " 'bizitobs_application/10S/medium',\n",
       " 'bizitobs_application/10S/long',\n",
       " 'bizitobs_l2c/H/short',\n",
       " 'bizitobs_l2c/H/medium',\n",
       " 'bizitobs_l2c/H/long',\n",
       " 'solar/10T/short',\n",
       " 'solar/10T/medium',\n",
       " 'solar/10T/long',\n",
       " 'jena_weather/10T/short',\n",
       " 'jena_weather/10T/medium',\n",
       " 'jena_weather/10T/long']"
      ]
     },
     "execution_count": 13,
     "metadata": {},
     "output_type": "execute_result"
    }
   ],
   "source": [
    "r = []\n",
    "for ds in ds_small:\n",
    "    if ds not in ds_tfm2:\n",
    "        r.append(ds)\n",
    "\n",
    "r"
   ]
  }
 ],
 "metadata": {
  "kernelspec": {
   "display_name": "base",
   "language": "python",
   "name": "python3"
  },
  "language_info": {
   "codemirror_mode": {
    "name": "ipython",
    "version": 3
   },
   "file_extension": ".py",
   "mimetype": "text/x-python",
   "name": "python",
   "nbconvert_exporter": "python",
   "pygments_lexer": "ipython3",
   "version": "3.10.9"
  }
 },
 "nbformat": 4,
 "nbformat_minor": 5
}
