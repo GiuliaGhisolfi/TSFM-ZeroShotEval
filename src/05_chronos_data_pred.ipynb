{
 "cells": [
  {
   "cell_type": "markdown",
   "id": "02eba777",
   "metadata": {},
   "source": [
    "### Import data"
   ]
  },
  {
   "cell_type": "code",
   "execution_count": 1,
   "id": "a91ae85b",
   "metadata": {},
   "outputs": [
    {
     "data": {
      "text/plain": [
       "DatasetDict({\n",
       "    train: Dataset({\n",
       "        features: ['id', 'timestamp', 'target', 'im_0'],\n",
       "        num_rows: 100014\n",
       "    })\n",
       "})"
      ]
     },
     "metadata": {},
     "output_type": "display_data"
    },
    {
     "data": {
      "text/plain": [
       "DatasetDict({\n",
       "    train: Dataset({\n",
       "        features: ['id', 'timestamp', 'target'],\n",
       "        num_rows: 8\n",
       "    })\n",
       "})"
      ]
     },
     "metadata": {},
     "output_type": "display_data"
    },
    {
     "data": {
      "text/plain": [
       "DatasetDict({\n",
       "    train: Dataset({\n",
       "        features: ['id', 'timestamp', 'target'],\n",
       "        num_rows: 8\n",
       "    })\n",
       "})"
      ]
     },
     "metadata": {},
     "output_type": "display_data"
    }
   ],
   "source": [
    "from datasets import load_dataset\n",
    "\n",
    "CHRONOS = \"autogluon/chronos_datasets\"\n",
    "DATASET_CHRONOS = [\n",
    "    \"dominick\",\n",
    "    \"ercot\",\n",
    "    \"exchange_rate\",\n",
    "    #\"monash_m3_monthly\"\n",
    "]\n",
    "\n",
    "for dataset in DATASET_CHRONOS:\n",
    "    ds = load_dataset(CHRONOS, dataset, trust_remote_code=True)\n",
    "    display(ds)"
   ]
  },
  {
   "cell_type": "markdown",
   "id": "abcef99e",
   "metadata": {},
   "source": [
    "### Results file"
   ]
  },
  {
   "cell_type": "code",
   "execution_count": 3,
   "id": "0b968571",
   "metadata": {},
   "outputs": [],
   "source": [
    "import csv\n",
    "import os\n",
    "\n",
    "# Ensure the output directory exists\n",
    "output_dir = \"results\"\n",
    "os.makedirs(output_dir, exist_ok=True)\n",
    "\n",
    "# Define the path for the CSV file\n",
    "csv_file_path = os.path.join(output_dir, \"chronos_data_results.csv\")\n",
    "\n",
    "with open(csv_file_path, \"w\", newline=\"\") as csvfile:\n",
    "    writer = csv.writer(csvfile)\n",
    "\n",
    "    # Write the header\n",
    "    writer.writerow(\n",
    "        [\n",
    "            \"dataset\",\n",
    "            \"model\",\n",
    "            \"eval_metrics/MSE[mean]\",\n",
    "            \"eval_metrics/MSE[0.5]\",\n",
    "            \"eval_metrics/MAE[0.5]\",\n",
    "            \"eval_metrics/MASE[0.5]\",\n",
    "            \"eval_metrics/MAPE[0.5]\",\n",
    "            \"eval_metrics/sMAPE[0.5]\",\n",
    "            \"eval_metrics/MSIS\",\n",
    "            \"eval_metrics/RMSE[mean]\",\n",
    "            \"eval_metrics/NRMSE[mean]\",\n",
    "            \"eval_metrics/ND[0.5]\",\n",
    "            \"eval_metrics/mean_weighted_sum_quantile_loss\",\n",
    "            \"domain\",\n",
    "            \"num_variates\",\n",
    "        ]\n",
    "    )"
   ]
  },
  {
   "cell_type": "markdown",
   "id": "613f589b",
   "metadata": {},
   "source": [
    "## Evaluation"
   ]
  },
  {
   "cell_type": "markdown",
   "id": "32f18dcf",
   "metadata": {},
   "source": [
    "### Chronos"
   ]
  },
  {
   "cell_type": "code",
   "execution_count": null,
   "id": "b2e86c46",
   "metadata": {},
   "outputs": [],
   "source": [
    "model_name = \"chronos_bolt_small\" # TODO: change to \"chronos_t5_base\" for the original Chronos model\n",
    "\n",
    "model_path=\"amazon/chronos-bolt-small\",\n",
    "# TODO: use \"amazon/chronos-t5-base\" for the corresponding original Chronos model\n",
    "# \"amazon/chronos-bolt-tiny\", \"amazon/chronos-bolt-mini\", \"amazon/chronos-bolt-small\", \"amazon/chronos-bolt-base\",\n",
    "# \"amazon/chronos-t5-tiny\", \"amazon/chronos-t5-mini\", \"amazon/chronos-t5-small\",\n",
    "# \"amazon/chronos-t5-base\", \"amazon/chronos-t5-large\","
   ]
  },
  {
   "cell_type": "code",
   "execution_count": null,
   "id": "ee5ccf8a",
   "metadata": {},
   "outputs": [
    {
     "data": {
      "text/plain": [
       "Dataset({\n",
       "    features: ['id', 'timestamp', 'target'],\n",
       "    num_rows: 8\n",
       "})"
      ]
     },
     "execution_count": 9,
     "metadata": {},
     "output_type": "execute_result"
    }
   ],
   "source": [
    "ds[\"train\"]"
   ]
  },
  {
   "cell_type": "code",
   "execution_count": null,
   "id": "d5befed5",
   "metadata": {},
   "outputs": [],
   "source": [
    "from utils.chronos_predictor import ChronosPredictor\n",
    "from utils.metrics import evaluate_metrics\n",
    "from gluonts.model import evaluate_model, evaluate_forecasts\n",
    "from gluonts.time_feature import get_seasonality\n",
    "\n",
    "for ds_name in DATASET_CHRONOS:\n",
    "        print(f\"Processing dataset: {ds_name}\")\n",
    "\n",
    "        dataset = load_dataset(CHRONOS, ds_name, trust_remote_code=True)\n",
    "        season_length = get_seasonality(dataset.freq)\n",
    "        prediction_length = dataset[\"train\"].metadata.prediction_length\n",
    "        \n",
    "\n",
    "        print(f\"Dataset size: {len(dataset.test_data)}\")\n",
    "        predictor = ChronosPredictor(\n",
    "            model_path=model_path,\n",
    "            num_samples=20,\n",
    "            prediction_length=dataset.prediction_length,\n",
    "            # Change device_map to \"cpu\" to run on CPU or \"cuda\" to run on GPU\n",
    "            device_map=\"cpu\",\n",
    "        )\n",
    "\n",
    "        # Make predictions\n",
    "        predictions = predictor.predict(\n",
    "            test_data_input=dataset[\"train\"],\n",
    "            batch_size=512,\n",
    "        )\n",
    "\n",
    "        # Evaluate the predictions\n",
    "        res = evaluate_metrics(predictions, dataset[\"train\"])\n",
    "\n",
    "        # Append the results to the CSV file\n",
    "        with open(csv_file_path, \"a\", newline=\"\") as csvfile:\n",
    "            writer = csv.writer(csvfile)\n",
    "            writer.writerow(\n",
    "                [\n",
    "                    ds_name,\n",
    "                    model_name,\n",
    "                    res[\"MSE[mean]\"][0],\n",
    "                    res[\"MSE[0.5]\"][0],\n",
    "                    res[\"MAE[0.5]\"][0],\n",
    "                    res[\"MASE[0.5]\"][0],\n",
    "                    res[\"MAPE[0.5]\"][0],\n",
    "                    res[\"sMAPE[0.5]\"][0],\n",
    "                    res[\"MSIS\"][0],\n",
    "                    res[\"RMSE[mean]\"][0],\n",
    "                    res[\"NRMSE[mean]\"][0],\n",
    "                    res[\"ND[0.5]\"][0],\n",
    "                    res[\"mean_weighted_sum_quantile_loss\"][0],\n",
    "                    ds_name,\n",
    "                    dataset_properties_map[ds_name][\"num_variates\"],\n",
    "                ]\n",
    "            )\n",
    "\n",
    "        print(f\"Results for {ds_name} have been written to {csv_file_path}\")"
   ]
  },
  {
   "cell_type": "code",
   "execution_count": null,
   "id": "851ae471",
   "metadata": {},
   "outputs": [],
   "source": []
  }
 ],
 "metadata": {
  "kernelspec": {
   "display_name": "base",
   "language": "python",
   "name": "python3"
  },
  "language_info": {
   "codemirror_mode": {
    "name": "ipython",
    "version": 3
   },
   "file_extension": ".py",
   "mimetype": "text/x-python",
   "name": "python",
   "nbconvert_exporter": "python",
   "pygments_lexer": "ipython3",
   "version": "3.10.9"
  }
 },
 "nbformat": 4,
 "nbformat_minor": 5
}
