{
 "cells": [
  {
   "cell_type": "code",
   "execution_count": 1,
   "id": "16d7d6de",
   "metadata": {},
   "outputs": [],
   "source": [
    "CHRONOS = \"autogluon/chronos_datasets\"\n",
    "DATASET_CHRONOS = [\n",
    "    \"dominick\",\n",
    "    \"ercot\",\n",
    "    \"exchange_rate\",\n",
    "    #\"monash_m3_monthly\"\n",
    "]"
   ]
  },
  {
   "cell_type": "code",
   "execution_count": 2,
   "id": "3142e461",
   "metadata": {},
   "outputs": [],
   "source": [
    "from datasets import load_dataset"
   ]
  },
  {
   "cell_type": "code",
   "execution_count": 3,
   "id": "365daac3",
   "metadata": {},
   "outputs": [
    {
     "data": {
      "text/plain": [
       "DatasetDict({\n",
       "    train: Dataset({\n",
       "        features: ['id', 'timestamp', 'target', 'im_0'],\n",
       "        num_rows: 100014\n",
       "    })\n",
       "})"
      ]
     },
     "metadata": {},
     "output_type": "display_data"
    },
    {
     "data": {
      "text/plain": [
       "DatasetDict({\n",
       "    train: Dataset({\n",
       "        features: ['id', 'timestamp', 'target'],\n",
       "        num_rows: 8\n",
       "    })\n",
       "})"
      ]
     },
     "metadata": {},
     "output_type": "display_data"
    },
    {
     "data": {
      "text/plain": [
       "DatasetDict({\n",
       "    train: Dataset({\n",
       "        features: ['id', 'timestamp', 'target'],\n",
       "        num_rows: 8\n",
       "    })\n",
       "})"
      ]
     },
     "metadata": {},
     "output_type": "display_data"
    }
   ],
   "source": [
    "for dataset in DATASET_CHRONOS:\n",
    "    ds = load_dataset(CHRONOS, dataset, trust_remote_code=True)\n",
    "    display(ds)"
   ]
  },
  {
   "cell_type": "code",
   "execution_count": 4,
   "id": "5c3fee72",
   "metadata": {},
   "outputs": [
    {
     "data": {
      "text/html": [
       "<div>\n",
       "<style scoped>\n",
       "    .dataframe tbody tr th:only-of-type {\n",
       "        vertical-align: middle;\n",
       "    }\n",
       "\n",
       "    .dataframe tbody tr th {\n",
       "        vertical-align: top;\n",
       "    }\n",
       "\n",
       "    .dataframe thead th {\n",
       "        text-align: right;\n",
       "    }\n",
       "</style>\n",
       "<table border=\"1\" class=\"dataframe\">\n",
       "  <thead>\n",
       "    <tr style=\"text-align: right;\">\n",
       "      <th></th>\n",
       "      <th>id</th>\n",
       "      <th>timestamp</th>\n",
       "      <th>target</th>\n",
       "      <th>im_0</th>\n",
       "    </tr>\n",
       "  </thead>\n",
       "  <tbody>\n",
       "    <tr>\n",
       "      <th>0</th>\n",
       "      <td>T000000</td>\n",
       "      <td>[1989-09-14 00:00:00, 1989-09-21 00:00:00, 198...</td>\n",
       "      <td>[40.209999084472656, 40.209999084472656, 0.0, ...</td>\n",
       "      <td>3459</td>\n",
       "    </tr>\n",
       "    <tr>\n",
       "      <th>1</th>\n",
       "      <td>T000001</td>\n",
       "      <td>[1989-09-14 00:00:00, 1989-09-21 00:00:00, 198...</td>\n",
       "      <td>[22.81999969482422, 22.81999969482422, 0.0, 22...</td>\n",
       "      <td>1762</td>\n",
       "    </tr>\n",
       "    <tr>\n",
       "      <th>2</th>\n",
       "      <td>T000002</td>\n",
       "      <td>[1989-09-14 00:00:00, 1989-09-21 00:00:00, 198...</td>\n",
       "      <td>[58.93000030517578, 58.93000030517578, 52.3300...</td>\n",
       "      <td>330</td>\n",
       "    </tr>\n",
       "    <tr>\n",
       "      <th>3</th>\n",
       "      <td>T000003</td>\n",
       "      <td>[1989-09-14 00:00:00, 1989-09-21 00:00:00, 198...</td>\n",
       "      <td>[18.59000015258789, 0.0, 0.0, 0.0, 18.59000015...</td>\n",
       "      <td>4120</td>\n",
       "    </tr>\n",
       "    <tr>\n",
       "      <th>4</th>\n",
       "      <td>T000004</td>\n",
       "      <td>[1989-09-14 00:00:00, 1989-09-21 00:00:00, 198...</td>\n",
       "      <td>[26.639999389648438, 26.639999389648438, 0.0, ...</td>\n",
       "      <td>1665</td>\n",
       "    </tr>\n",
       "    <tr>\n",
       "      <th>...</th>\n",
       "      <td>...</td>\n",
       "      <td>...</td>\n",
       "      <td>...</td>\n",
       "      <td>...</td>\n",
       "    </tr>\n",
       "    <tr>\n",
       "      <th>100009</th>\n",
       "      <td>T100009</td>\n",
       "      <td>[1989-09-14 00:00:00, 1989-09-21 00:00:00, 198...</td>\n",
       "      <td>[13.449999809265137, 20.1200008392334, 20.1200...</td>\n",
       "      <td>3881</td>\n",
       "    </tr>\n",
       "    <tr>\n",
       "      <th>100010</th>\n",
       "      <td>T100010</td>\n",
       "      <td>[1989-09-14 00:00:00, 1989-09-21 00:00:00, 198...</td>\n",
       "      <td>[40.66999816894531, 40.66999816894531, 40.6699...</td>\n",
       "      <td>2467</td>\n",
       "    </tr>\n",
       "    <tr>\n",
       "      <th>100011</th>\n",
       "      <td>T100011</td>\n",
       "      <td>[1989-09-14 00:00:00, 1989-09-21 00:00:00, 198...</td>\n",
       "      <td>[42.380001068115234, 42.380001068115234, 38.99...</td>\n",
       "      <td>2569</td>\n",
       "    </tr>\n",
       "    <tr>\n",
       "      <th>100012</th>\n",
       "      <td>T100012</td>\n",
       "      <td>[1989-09-14 00:00:00, 1989-09-21 00:00:00, 198...</td>\n",
       "      <td>[40.20000076293945, 40.20000076293945, 40.2000...</td>\n",
       "      <td>2324</td>\n",
       "    </tr>\n",
       "    <tr>\n",
       "      <th>100013</th>\n",
       "      <td>T100013</td>\n",
       "      <td>[1989-09-14 00:00:00, 1989-09-21 00:00:00, 198...</td>\n",
       "      <td>[42.88999938964844, 42.88999938964844, 42.8899...</td>\n",
       "      <td>2375</td>\n",
       "    </tr>\n",
       "  </tbody>\n",
       "</table>\n",
       "<p>100014 rows × 4 columns</p>\n",
       "</div>"
      ],
      "text/plain": [
       "             id                                          timestamp  \\\n",
       "0       T000000  [1989-09-14 00:00:00, 1989-09-21 00:00:00, 198...   \n",
       "1       T000001  [1989-09-14 00:00:00, 1989-09-21 00:00:00, 198...   \n",
       "2       T000002  [1989-09-14 00:00:00, 1989-09-21 00:00:00, 198...   \n",
       "3       T000003  [1989-09-14 00:00:00, 1989-09-21 00:00:00, 198...   \n",
       "4       T000004  [1989-09-14 00:00:00, 1989-09-21 00:00:00, 198...   \n",
       "...         ...                                                ...   \n",
       "100009  T100009  [1989-09-14 00:00:00, 1989-09-21 00:00:00, 198...   \n",
       "100010  T100010  [1989-09-14 00:00:00, 1989-09-21 00:00:00, 198...   \n",
       "100011  T100011  [1989-09-14 00:00:00, 1989-09-21 00:00:00, 198...   \n",
       "100012  T100012  [1989-09-14 00:00:00, 1989-09-21 00:00:00, 198...   \n",
       "100013  T100013  [1989-09-14 00:00:00, 1989-09-21 00:00:00, 198...   \n",
       "\n",
       "                                                   target  im_0  \n",
       "0       [40.209999084472656, 40.209999084472656, 0.0, ...  3459  \n",
       "1       [22.81999969482422, 22.81999969482422, 0.0, 22...  1762  \n",
       "2       [58.93000030517578, 58.93000030517578, 52.3300...   330  \n",
       "3       [18.59000015258789, 0.0, 0.0, 0.0, 18.59000015...  4120  \n",
       "4       [26.639999389648438, 26.639999389648438, 0.0, ...  1665  \n",
       "...                                                   ...   ...  \n",
       "100009  [13.449999809265137, 20.1200008392334, 20.1200...  3881  \n",
       "100010  [40.66999816894531, 40.66999816894531, 40.6699...  2467  \n",
       "100011  [42.380001068115234, 42.380001068115234, 38.99...  2569  \n",
       "100012  [40.20000076293945, 40.20000076293945, 40.2000...  2324  \n",
       "100013  [42.88999938964844, 42.88999938964844, 42.8899...  2375  \n",
       "\n",
       "[100014 rows x 4 columns]"
      ]
     },
     "execution_count": 4,
     "metadata": {},
     "output_type": "execute_result"
    }
   ],
   "source": [
    "import pandas as pd\n",
    "\n",
    "dominick_ds = load_dataset(CHRONOS, \"dominick\", trust_remote_code=True)\n",
    "examples = [x for x in dominick_ds[\"train\"]]\n",
    "dominick_df = pd.DataFrame(examples)\n",
    "dominick_df"
   ]
  },
  {
   "cell_type": "code",
   "execution_count": 5,
   "id": "662210dd",
   "metadata": {},
   "outputs": [
    {
     "data": {
      "text/html": [
       "<div>\n",
       "<style scoped>\n",
       "    .dataframe tbody tr th:only-of-type {\n",
       "        vertical-align: middle;\n",
       "    }\n",
       "\n",
       "    .dataframe tbody tr th {\n",
       "        vertical-align: top;\n",
       "    }\n",
       "\n",
       "    .dataframe thead th {\n",
       "        text-align: right;\n",
       "    }\n",
       "</style>\n",
       "<table border=\"1\" class=\"dataframe\">\n",
       "  <thead>\n",
       "    <tr style=\"text-align: right;\">\n",
       "      <th></th>\n",
       "      <th>id</th>\n",
       "      <th>timestamp</th>\n",
       "      <th>target</th>\n",
       "    </tr>\n",
       "  </thead>\n",
       "  <tbody>\n",
       "    <tr>\n",
       "      <th>0</th>\n",
       "      <td>COAST</td>\n",
       "      <td>[2004-01-01 01:00:00, 2004-01-01 02:00:00, 200...</td>\n",
       "      <td>[7225.08984375, 6994.25, 6717.419921875, 6554....</td>\n",
       "    </tr>\n",
       "    <tr>\n",
       "      <th>1</th>\n",
       "      <td>EAST</td>\n",
       "      <td>[2004-01-01 01:00:00, 2004-01-01 02:00:00, 200...</td>\n",
       "      <td>[877.7899780273438, 850.75, 831.6300048828125,...</td>\n",
       "    </tr>\n",
       "    <tr>\n",
       "      <th>2</th>\n",
       "      <td>FAR_WEST</td>\n",
       "      <td>[2004-01-01 01:00:00, 2004-01-01 02:00:00, 200...</td>\n",
       "      <td>[1044.8900146484375, 1032.0400390625, 1021.099...</td>\n",
       "    </tr>\n",
       "    <tr>\n",
       "      <th>3</th>\n",
       "      <td>NORTH</td>\n",
       "      <td>[2004-01-01 01:00:00, 2004-01-01 02:00:00, 200...</td>\n",
       "      <td>[745.7899780273438, 721.3400268554688, 699.700...</td>\n",
       "    </tr>\n",
       "    <tr>\n",
       "      <th>4</th>\n",
       "      <td>NORTH_C</td>\n",
       "      <td>[2004-01-01 01:00:00, 2004-01-01 02:00:00, 200...</td>\n",
       "      <td>[7124.2099609375, 6854.580078125, 6639.4799804...</td>\n",
       "    </tr>\n",
       "    <tr>\n",
       "      <th>5</th>\n",
       "      <td>SOUTHERN</td>\n",
       "      <td>[2004-01-01 01:00:00, 2004-01-01 02:00:00, 200...</td>\n",
       "      <td>[1660.449951171875, 1603.52001953125, 1527.989...</td>\n",
       "    </tr>\n",
       "    <tr>\n",
       "      <th>6</th>\n",
       "      <td>SOUTH_C</td>\n",
       "      <td>[2004-01-01 01:00:00, 2004-01-01 02:00:00, 200...</td>\n",
       "      <td>[3639.1201171875, 3495.159912109375, 3322.6999...</td>\n",
       "    </tr>\n",
       "    <tr>\n",
       "      <th>7</th>\n",
       "      <td>WEST</td>\n",
       "      <td>[2004-01-01 01:00:00, 2004-01-01 02:00:00, 200...</td>\n",
       "      <td>[654.6099853515625, 639.8800048828125, 623.419...</td>\n",
       "    </tr>\n",
       "  </tbody>\n",
       "</table>\n",
       "</div>"
      ],
      "text/plain": [
       "         id                                          timestamp  \\\n",
       "0     COAST  [2004-01-01 01:00:00, 2004-01-01 02:00:00, 200...   \n",
       "1      EAST  [2004-01-01 01:00:00, 2004-01-01 02:00:00, 200...   \n",
       "2  FAR_WEST  [2004-01-01 01:00:00, 2004-01-01 02:00:00, 200...   \n",
       "3     NORTH  [2004-01-01 01:00:00, 2004-01-01 02:00:00, 200...   \n",
       "4   NORTH_C  [2004-01-01 01:00:00, 2004-01-01 02:00:00, 200...   \n",
       "5  SOUTHERN  [2004-01-01 01:00:00, 2004-01-01 02:00:00, 200...   \n",
       "6   SOUTH_C  [2004-01-01 01:00:00, 2004-01-01 02:00:00, 200...   \n",
       "7      WEST  [2004-01-01 01:00:00, 2004-01-01 02:00:00, 200...   \n",
       "\n",
       "                                              target  \n",
       "0  [7225.08984375, 6994.25, 6717.419921875, 6554....  \n",
       "1  [877.7899780273438, 850.75, 831.6300048828125,...  \n",
       "2  [1044.8900146484375, 1032.0400390625, 1021.099...  \n",
       "3  [745.7899780273438, 721.3400268554688, 699.700...  \n",
       "4  [7124.2099609375, 6854.580078125, 6639.4799804...  \n",
       "5  [1660.449951171875, 1603.52001953125, 1527.989...  \n",
       "6  [3639.1201171875, 3495.159912109375, 3322.6999...  \n",
       "7  [654.6099853515625, 639.8800048828125, 623.419...  "
      ]
     },
     "execution_count": 5,
     "metadata": {},
     "output_type": "execute_result"
    }
   ],
   "source": [
    "ercot_ds = load_dataset(CHRONOS, \"ercot\", trust_remote_code=True)\n",
    "examples = [x for x in ercot_ds[\"train\"]]\n",
    "ercot_df = pd.DataFrame(examples)\n",
    "ercot_df"
   ]
  },
  {
   "cell_type": "code",
   "execution_count": 6,
   "id": "1138973e",
   "metadata": {},
   "outputs": [
    {
     "data": {
      "text/html": [
       "<div>\n",
       "<style scoped>\n",
       "    .dataframe tbody tr th:only-of-type {\n",
       "        vertical-align: middle;\n",
       "    }\n",
       "\n",
       "    .dataframe tbody tr th {\n",
       "        vertical-align: top;\n",
       "    }\n",
       "\n",
       "    .dataframe thead th {\n",
       "        text-align: right;\n",
       "    }\n",
       "</style>\n",
       "<table border=\"1\" class=\"dataframe\">\n",
       "  <thead>\n",
       "    <tr style=\"text-align: right;\">\n",
       "      <th></th>\n",
       "      <th>id</th>\n",
       "      <th>timestamp</th>\n",
       "      <th>target</th>\n",
       "    </tr>\n",
       "  </thead>\n",
       "  <tbody>\n",
       "    <tr>\n",
       "      <th>0</th>\n",
       "      <td>currency_1</td>\n",
       "      <td>[1990-01-01 00:00:00, 1990-01-02 00:00:00, 199...</td>\n",
       "      <td>[0.7854999899864197, 0.7817999720573425, 0.786...</td>\n",
       "    </tr>\n",
       "    <tr>\n",
       "      <th>1</th>\n",
       "      <td>currency_2</td>\n",
       "      <td>[1990-01-01 00:00:00, 1990-01-02 00:00:00, 199...</td>\n",
       "      <td>[1.6109999418258667, 1.6100000143051147, 1.629...</td>\n",
       "    </tr>\n",
       "    <tr>\n",
       "      <th>2</th>\n",
       "      <td>currency_3</td>\n",
       "      <td>[1990-01-01 00:00:00, 1990-01-02 00:00:00, 199...</td>\n",
       "      <td>[0.8616979718208313, 0.8611040115356445, 0.861...</td>\n",
       "    </tr>\n",
       "    <tr>\n",
       "      <th>3</th>\n",
       "      <td>currency_4</td>\n",
       "      <td>[1990-01-01 00:00:00, 1990-01-02 00:00:00, 199...</td>\n",
       "      <td>[0.6341959834098816, 0.6335129737854004, 0.648...</td>\n",
       "    </tr>\n",
       "    <tr>\n",
       "      <th>4</th>\n",
       "      <td>currency_5</td>\n",
       "      <td>[1990-01-01 00:00:00, 1990-01-02 00:00:00, 199...</td>\n",
       "      <td>[0.21124200522899628, 0.21124200522899628, 0.2...</td>\n",
       "    </tr>\n",
       "    <tr>\n",
       "      <th>5</th>\n",
       "      <td>currency_6</td>\n",
       "      <td>[1990-01-01 00:00:00, 1990-01-02 00:00:00, 199...</td>\n",
       "      <td>[0.006837999913841486, 0.006862999871373177, 0...</td>\n",
       "    </tr>\n",
       "    <tr>\n",
       "      <th>6</th>\n",
       "      <td>currency_7</td>\n",
       "      <td>[1990-01-01 00:00:00, 1990-01-02 00:00:00, 199...</td>\n",
       "      <td>[0.5929999947547913, 0.593999981880188, 0.5972...</td>\n",
       "    </tr>\n",
       "    <tr>\n",
       "      <th>7</th>\n",
       "      <td>currency_8</td>\n",
       "      <td>[1990-01-01 00:00:00, 1990-01-02 00:00:00, 199...</td>\n",
       "      <td>[0.5254859924316406, 0.5239719748497009, 0.526...</td>\n",
       "    </tr>\n",
       "  </tbody>\n",
       "</table>\n",
       "</div>"
      ],
      "text/plain": [
       "           id                                          timestamp  \\\n",
       "0  currency_1  [1990-01-01 00:00:00, 1990-01-02 00:00:00, 199...   \n",
       "1  currency_2  [1990-01-01 00:00:00, 1990-01-02 00:00:00, 199...   \n",
       "2  currency_3  [1990-01-01 00:00:00, 1990-01-02 00:00:00, 199...   \n",
       "3  currency_4  [1990-01-01 00:00:00, 1990-01-02 00:00:00, 199...   \n",
       "4  currency_5  [1990-01-01 00:00:00, 1990-01-02 00:00:00, 199...   \n",
       "5  currency_6  [1990-01-01 00:00:00, 1990-01-02 00:00:00, 199...   \n",
       "6  currency_7  [1990-01-01 00:00:00, 1990-01-02 00:00:00, 199...   \n",
       "7  currency_8  [1990-01-01 00:00:00, 1990-01-02 00:00:00, 199...   \n",
       "\n",
       "                                              target  \n",
       "0  [0.7854999899864197, 0.7817999720573425, 0.786...  \n",
       "1  [1.6109999418258667, 1.6100000143051147, 1.629...  \n",
       "2  [0.8616979718208313, 0.8611040115356445, 0.861...  \n",
       "3  [0.6341959834098816, 0.6335129737854004, 0.648...  \n",
       "4  [0.21124200522899628, 0.21124200522899628, 0.2...  \n",
       "5  [0.006837999913841486, 0.006862999871373177, 0...  \n",
       "6  [0.5929999947547913, 0.593999981880188, 0.5972...  \n",
       "7  [0.5254859924316406, 0.5239719748497009, 0.526...  "
      ]
     },
     "execution_count": 6,
     "metadata": {},
     "output_type": "execute_result"
    }
   ],
   "source": [
    "exchange_rate_ds = load_dataset(CHRONOS, \"exchange_rate\", trust_remote_code=True)\n",
    "examples = [x for x in exchange_rate_ds[\"train\"]]\n",
    "exchange_rate_df = pd.DataFrame(examples)\n",
    "exchange_rate_df"
   ]
  },
  {
   "cell_type": "code",
   "execution_count": 7,
   "id": "2c2599bc",
   "metadata": {},
   "outputs": [],
   "source": [
    "dominick_df.to_csv(\"data/chronos_data/dominick.csv\")\n",
    "ercot_df.to_csv(\"data/chronos_data/ercot.csv\")\n",
    "exchange_rate_df.to_csv(\"data/chronos_data/exchange_rate.csv\")"
   ]
  },
  {
   "cell_type": "code",
   "execution_count": 9,
   "id": "e2c841c4",
   "metadata": {},
   "outputs": [
    {
     "data": {
      "text/plain": [
       "<gift_eval.data.Dataset at 0x2340eb77ac0>"
      ]
     },
     "metadata": {},
     "output_type": "display_data"
    }
   ],
   "source": [
    "from gift_eval.data import Dataset\n",
    "\n",
    "# Load the dataset\n",
    "to_univariate = False  # Whether to convert the data to univariate\n",
    "term = \"short\"\n",
    "\n",
    "dataset = Dataset(name=\"jena_weather/10T\", term=term, to_univariate=to_univariate)\n",
    "display(dataset)"
   ]
  },
  {
   "cell_type": "code",
   "execution_count": 15,
   "id": "9ddbfc9c",
   "metadata": {},
   "outputs": [
    {
     "data": {
      "text/plain": [
       "TrainingDataset(dataset=Map(fn=Compose(<gluonts.dataset.common.ProcessDataEntry object at 0x00000233E2BF3250>, <function itemize_start at 0x00000233F90D3880>), iterable=Dataset({\n",
       "    features: ['item_id', 'start', 'freq', 'target'],\n",
       "    num_rows: 1\n",
       "})), splitter=OffsetSplitter(offset=-1008))"
      ]
     },
     "execution_count": 15,
     "metadata": {},
     "output_type": "execute_result"
    }
   ],
   "source": [
    "dataset.training_dataset"
   ]
  },
  {
   "cell_type": "code",
   "execution_count": 16,
   "id": "6d5200ad",
   "metadata": {},
   "outputs": [
    {
     "data": {
      "text/plain": [
       "Dataset({\n",
       "    features: ['id', 'timestamp', 'target'],\n",
       "    num_rows: 8\n",
       "})"
      ]
     },
     "execution_count": 16,
     "metadata": {},
     "output_type": "execute_result"
    }
   ],
   "source": [
    "exchange_rate_ds[\"train\"] # equivalente di: dataset.training_dataset di GiftEval"
   ]
  },
  {
   "cell_type": "code",
   "execution_count": 17,
   "id": "4eb63ea3",
   "metadata": {},
   "outputs": [
    {
     "data": {
      "text/plain": [
       "TestData(dataset=Map(fn=Compose(<gluonts.dataset.common.ProcessDataEntry object at 0x00000233E2BF3250>, <function itemize_start at 0x00000233F90D3880>), iterable=Dataset({\n",
       "    features: ['item_id', 'start', 'freq', 'target'],\n",
       "    num_rows: 1\n",
       "})), splitter=OffsetSplitter(offset=-960), prediction_length=48, windows=20, distance=48, max_history=None)"
      ]
     },
     "execution_count": 17,
     "metadata": {},
     "output_type": "execute_result"
    }
   ],
   "source": [
    "dataset.test_data"
   ]
  }
 ],
 "metadata": {
  "kernelspec": {
   "display_name": "base",
   "language": "python",
   "name": "python3"
  },
  "language_info": {
   "codemirror_mode": {
    "name": "ipython",
    "version": 3
   },
   "file_extension": ".py",
   "mimetype": "text/x-python",
   "name": "python",
   "nbconvert_exporter": "python",
   "pygments_lexer": "ipython3",
   "version": "3.10.9"
  }
 },
 "nbformat": 4,
 "nbformat_minor": 5
}
