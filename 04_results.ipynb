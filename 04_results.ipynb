{
 "cells": [
  {
   "cell_type": "code",
   "execution_count": null,
   "id": "af2a9637",
   "metadata": {},
   "outputs": [],
   "source": [
    "import pandas as pd\n",
    "import numpy as np"
   ]
  },
  {
   "cell_type": "code",
   "execution_count": 7,
   "id": "844a53d3",
   "metadata": {},
   "outputs": [],
   "source": [
    "chronos_base_path = \"results/chronos/chronos_bolt_base_results.csv\"\n",
    "chronos_small_path = \"results/chronos/chronos_bolt_small_results.csv\"\n",
    "chronos_mini_path = \"results/chronos/chronos_bolt_mini_results.csv\"\n",
    "chronos_tiny_path = \"results/chronos/chronos_bolt_tiny_results.csv\"\n",
    "\n",
    "timesfm1_path = \"results/timesfm/timesfm1_results.csv\"\n",
    "timesfm2_path = \"results/timesfm/timesfm2_results.csv\""
   ]
  },
  {
   "cell_type": "code",
   "execution_count": null,
   "id": "2029ba55",
   "metadata": {},
   "outputs": [],
   "source": [
    "def path_to_df(path):\n",
    "    df = pd.read_csv(path)\n",
    "    df = df[[\"dataset\", \"model\", \"eval_metrics/MASE[0.5]\", \"domain\", \"num_variates\",\n",
    "        \"eval_metrics/mean_weighted_sum_quantile_loss\"]]\n",
    "    df = df.rename(columns={\"eval_metrics/MASE[0.5]\": \"MASE\"})\n",
    "    df = df.rename(columns={\"eval_metrics/mean_weighted_sum_quantile_loss\": \"Qloss\"})\n",
    "    return df"
   ]
  },
  {
   "cell_type": "code",
   "execution_count": 5,
   "id": "c3da9dbe",
   "metadata": {},
   "outputs": [
    {
     "data": {
      "text/html": [
       "<div>\n",
       "<style scoped>\n",
       "    .dataframe tbody tr th:only-of-type {\n",
       "        vertical-align: middle;\n",
       "    }\n",
       "\n",
       "    .dataframe tbody tr th {\n",
       "        vertical-align: top;\n",
       "    }\n",
       "\n",
       "    .dataframe thead th {\n",
       "        text-align: right;\n",
       "    }\n",
       "</style>\n",
       "<table border=\"1\" class=\"dataframe\">\n",
       "  <thead>\n",
       "    <tr style=\"text-align: right;\">\n",
       "      <th></th>\n",
       "      <th>dataset</th>\n",
       "      <th>model</th>\n",
       "      <th>MASE</th>\n",
       "      <th>domain</th>\n",
       "      <th>num_variates</th>\n",
       "      <th>Qloss</th>\n",
       "    </tr>\n",
       "  </thead>\n",
       "  <tbody>\n",
       "    <tr>\n",
       "      <th>0</th>\n",
       "      <td>bizitobs_application/10S/short</td>\n",
       "      <td>chronos_bolt_base</td>\n",
       "      <td>5.533290</td>\n",
       "      <td>Web/CloudOps</td>\n",
       "      <td>2</td>\n",
       "      <td>0.053958</td>\n",
       "    </tr>\n",
       "    <tr>\n",
       "      <th>1</th>\n",
       "      <td>bizitobs_application/10S/medium</td>\n",
       "      <td>chronos_bolt_base</td>\n",
       "      <td>9.720338</td>\n",
       "      <td>Web/CloudOps</td>\n",
       "      <td>2</td>\n",
       "      <td>0.103502</td>\n",
       "    </tr>\n",
       "    <tr>\n",
       "      <th>2</th>\n",
       "      <td>bizitobs_application/10S/long</td>\n",
       "      <td>chronos_bolt_base</td>\n",
       "      <td>10.483795</td>\n",
       "      <td>Web/CloudOps</td>\n",
       "      <td>2</td>\n",
       "      <td>0.108976</td>\n",
       "    </tr>\n",
       "    <tr>\n",
       "      <th>3</th>\n",
       "      <td>bizitobs_l2c/5T/short</td>\n",
       "      <td>chronos_bolt_base</td>\n",
       "      <td>0.278185</td>\n",
       "      <td>Web/CloudOps</td>\n",
       "      <td>7</td>\n",
       "      <td>0.074353</td>\n",
       "    </tr>\n",
       "    <tr>\n",
       "      <th>4</th>\n",
       "      <td>bizitobs_l2c/5T/medium</td>\n",
       "      <td>chronos_bolt_base</td>\n",
       "      <td>0.877710</td>\n",
       "      <td>Web/CloudOps</td>\n",
       "      <td>7</td>\n",
       "      <td>0.445441</td>\n",
       "    </tr>\n",
       "  </tbody>\n",
       "</table>\n",
       "</div>"
      ],
      "text/plain": [
       "                           dataset              model       MASE  \\\n",
       "0   bizitobs_application/10S/short  chronos_bolt_base   5.533290   \n",
       "1  bizitobs_application/10S/medium  chronos_bolt_base   9.720338   \n",
       "2    bizitobs_application/10S/long  chronos_bolt_base  10.483795   \n",
       "3            bizitobs_l2c/5T/short  chronos_bolt_base   0.278185   \n",
       "4           bizitobs_l2c/5T/medium  chronos_bolt_base   0.877710   \n",
       "\n",
       "         domain  num_variates     Qloss  \n",
       "0  Web/CloudOps             2  0.053958  \n",
       "1  Web/CloudOps             2  0.103502  \n",
       "2  Web/CloudOps             2  0.108976  \n",
       "3  Web/CloudOps             7  0.074353  \n",
       "4  Web/CloudOps             7  0.445441  "
      ]
     },
     "execution_count": 5,
     "metadata": {},
     "output_type": "execute_result"
    }
   ],
   "source": [
    "chronos_base_df = path_to_df(chronos_base_path)\n",
    "chronos_base_df.head()"
   ]
  },
  {
   "cell_type": "code",
   "execution_count": 8,
   "id": "4214e809",
   "metadata": {},
   "outputs": [],
   "source": [
    "chronos_small_df = path_to_df(chronos_small_path)\n",
    "chronos_mini_df = path_to_df(chronos_mini_path)\n",
    "chronos_tiny_df = path_to_df(chronos_tiny_path)\n",
    "\n",
    "timesfm1_df = path_to_df(timesfm1_path)\n",
    "timesfm2_df = path_to_df(timesfm2_path)"
   ]
  },
  {
   "cell_type": "code",
   "execution_count": null,
   "id": "3aa427bc",
   "metadata": {},
   "outputs": [],
   "source": []
  }
 ],
 "metadata": {
  "kernelspec": {
   "display_name": "base",
   "language": "python",
   "name": "python3"
  },
  "language_info": {
   "codemirror_mode": {
    "name": "ipython",
    "version": 3
   },
   "file_extension": ".py",
   "mimetype": "text/x-python",
   "name": "python",
   "nbconvert_exporter": "python",
   "pygments_lexer": "ipython3",
   "version": "3.10.9"
  }
 },
 "nbformat": 4,
 "nbformat_minor": 5
}
